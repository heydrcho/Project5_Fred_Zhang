{
 "cells": [
  {
   "cell_type": "markdown",
   "metadata": {},
   "source": [
    "# Project 5 DNN and Non-DNN Algorithms with Filled Data"
   ]
  },
  {
   "cell_type": "markdown",
   "metadata": {},
   "source": [
    "In this project, I will use the same dataset in Project 3 Part 2 - pima india. I am going to preprocess the data, and then implement both DNN and non-DNN algorithms to train the model."
   ]
  },
  {
   "cell_type": "markdown",
   "metadata": {},
   "source": [
    "## Imputing the Missing Data"
   ]
  },
  {
   "cell_type": "code",
   "execution_count": 1,
   "metadata": {},
   "outputs": [
    {
     "name": "stdout",
     "output_type": "stream",
     "text": [
      "                0           1           2           3           4           5  \\\n",
      "count  768.000000  768.000000  768.000000  768.000000  768.000000  768.000000   \n",
      "mean     3.845052  120.894531   69.105469   20.536458   79.799479   31.992578   \n",
      "std      3.369578   31.972618   19.355807   15.952218  115.244002    7.884160   \n",
      "min      0.000000    0.000000    0.000000    0.000000    0.000000    0.000000   \n",
      "25%      1.000000   99.000000   62.000000    0.000000    0.000000   27.300000   \n",
      "50%      3.000000  117.000000   72.000000   23.000000   30.500000   32.000000   \n",
      "75%      6.000000  140.250000   80.000000   32.000000  127.250000   36.600000   \n",
      "max     17.000000  199.000000  122.000000   99.000000  846.000000   67.100000   \n",
      "\n",
      "                6           7           8  \n",
      "count  768.000000  768.000000  768.000000  \n",
      "mean     0.471876   33.240885    0.348958  \n",
      "std      0.331329   11.760232    0.476951  \n",
      "min      0.078000   21.000000    0.000000  \n",
      "25%      0.243750   24.000000    0.000000  \n",
      "50%      0.372500   29.000000    0.000000  \n",
      "75%      0.626250   41.000000    1.000000  \n",
      "max      2.420000   81.000000    1.000000  \n"
     ]
    }
   ],
   "source": [
    "# required lib\n",
    "import matplotlib.pyplot as plt\n",
    "from pandas import read_csv\n",
    "from sklearn import model_selection\n",
    "from sklearn.linear_model import LogisticRegression\n",
    "import numpy as np\n",
    "\n",
    "# load the diabetes data set\n",
    "diabetes = read_csv('pima-indians-diabetes.csv', header=None)\n",
    "print(diabetes.describe())"
   ]
  },
  {
   "cell_type": "code",
   "execution_count": 3,
   "metadata": {},
   "outputs": [
    {
     "name": "stdout",
     "output_type": "stream",
     "text": [
      "    0    1   2   3    4     5      6   7  8\n",
      "0   6  148  72  35    0  33.6  0.627  50  1\n",
      "1   1   85  66  29    0  26.6  0.351  31  0\n",
      "2   8  183  64   0    0  23.3  0.672  32  1\n",
      "3   1   89  66  23   94  28.1  0.167  21  0\n",
      "4   0  137  40  35  168  43.1  2.288  33  1\n",
      "5   5  116  74   0    0  25.6  0.201  30  0\n",
      "6   3   78  50  32   88  31.0  0.248  26  1\n",
      "7  10  115   0   0    0  35.3  0.134  29  0\n",
      "8   2  197  70  45  543  30.5  0.158  53  1\n",
      "9   8  125  96   0    0   0.0  0.232  54  1\n"
     ]
    }
   ],
   "source": [
    "# print out the number of examples in the data set\n",
    "print (diabetes.head(10))"
   ]
  },
  {
   "cell_type": "code",
   "execution_count": 4,
   "metadata": {},
   "outputs": [
    {
     "name": "stdout",
     "output_type": "stream",
     "text": [
      "0    1\n",
      "1    0\n",
      "2    0\n",
      "3    2\n",
      "4    4\n",
      "5    0\n",
      "6    0\n",
      "7    0\n",
      "8    3\n",
      "dtype: int64\n"
     ]
    }
   ],
   "source": [
    "# how many blank values\n",
    "print((diabetes[0:6] == 0).sum())"
   ]
  },
  {
   "cell_type": "code",
   "execution_count": 5,
   "metadata": {},
   "outputs": [],
   "source": [
    "# use the simple imputer to fill the missing values\n",
    "from sklearn.impute import SimpleImputer\n",
    "array = diabetes.values\n",
    "X = array[:,0:8]\n",
    "Y = array[:,8]\n",
    "imp = SimpleImputer(missing_values=0, strategy='mean')\n",
    "diabetes_imp = imp.fit(X[:, 0:6])\n",
    "X[:, 0:6] = imp.transform(X[:, 0:6])"
   ]
  },
  {
   "cell_type": "code",
   "execution_count": 6,
   "metadata": {},
   "outputs": [
    {
     "name": "stdout",
     "output_type": "stream",
     "text": [
      "0\n"
     ]
    }
   ],
   "source": [
    "# check if there is any 0 left\n",
    "print((X[0:6] == 0).sum())"
   ]
  },
  {
   "cell_type": "markdown",
   "metadata": {},
   "source": [
    "We can see that there is no missing value - we have done handling the missing data. Now we can move to the next step: implementing a non-DNN algorithm."
   ]
  },
  {
   "cell_type": "markdown",
   "metadata": {},
   "source": [
    "## Implementing A Non-DNN Algorithm"
   ]
  },
  {
   "cell_type": "markdown",
   "metadata": {},
   "source": [
    "Here, we choose to use Logistic Regression classifier."
   ]
  },
  {
   "cell_type": "code",
   "execution_count": 7,
   "metadata": {},
   "outputs": [],
   "source": [
    "# specify Logistic Regression classifier\n",
    "# with the max_iter = 1000\n",
    "# otherwise it will have warning (maximum iteration limit reached)\n",
    "clf = LogisticRegression(max_iter=1000)"
   ]
  },
  {
   "cell_type": "code",
   "execution_count": 8,
   "metadata": {},
   "outputs": [
    {
     "data": {
      "text/plain": [
       "LogisticRegression(max_iter=1000)"
      ]
     },
     "execution_count": 8,
     "metadata": {},
     "output_type": "execute_result"
    }
   ],
   "source": [
    "# We split the data into training and test set\n",
    "test_size = 0.33\n",
    "X_train, X_test, Y_train, Y_test = model_selection.train_test_split(X,Y,test_size=test_size, random_state=1)\n",
    "clf.fit(X_train, Y_train)"
   ]
  },
  {
   "cell_type": "code",
   "execution_count": 9,
   "metadata": {},
   "outputs": [
    {
     "name": "stdout",
     "output_type": "stream",
     "text": [
      "Accuracy: 77.953%\n"
     ]
    }
   ],
   "source": [
    "# Accuracy of the model\n",
    "print('Accuracy: %.3f%%' % (clf.score(X_test, Y_test)*100.0))"
   ]
  },
  {
   "cell_type": "markdown",
   "metadata": {},
   "source": [
    "After we ran the model, we got the accuracy of 77.953% which isn't too bad. We set the max iteration to be 1000. If the max iteration is larger, will we get better result? Let's try that."
   ]
  },
  {
   "cell_type": "code",
   "execution_count": 11,
   "metadata": {},
   "outputs": [
    {
     "name": "stdout",
     "output_type": "stream",
     "text": [
      "Accuracy: 77.953%\n"
     ]
    }
   ],
   "source": [
    "clf_2 = LogisticRegression(max_iter=10000)\n",
    "\n",
    "# We split the data into training and test set\n",
    "test_size = 0.33\n",
    "X_train, X_test, Y_train, Y_test = model_selection.train_test_split(X,Y,test_size=test_size, random_state=1)\n",
    "clf_2.fit(X_train, Y_train)\n",
    "\n",
    "# Accuracy of the model\n",
    "print('Accuracy: %.3f%%' % (clf_2.score(X_test, Y_test)*100.0))"
   ]
  },
  {
   "cell_type": "markdown",
   "metadata": {},
   "source": [
    "The accuracy didn't change. We can take a guess that the cost function will no longer change because it has already converged. To prove this assumption, let's tune the number of iterations and plot the graph."
   ]
  },
  {
   "cell_type": "code",
   "execution_count": 23,
   "metadata": {},
   "outputs": [
    {
     "name": "stderr",
     "output_type": "stream",
     "text": [
      "/home/csuser/.local/lib/python3.6/site-packages/sklearn/linear_model/_logistic.py:765: ConvergenceWarning: lbfgs failed to converge (status=1):\n",
      "STOP: TOTAL NO. of ITERATIONS REACHED LIMIT.\n",
      "\n",
      "Increase the number of iterations (max_iter) or scale the data as shown in:\n",
      "    https://scikit-learn.org/stable/modules/preprocessing.html\n",
      "Please also refer to the documentation for alternative solver options:\n",
      "    https://scikit-learn.org/stable/modules/linear_model.html#logistic-regression\n",
      "  extra_warning_msg=_LOGISTIC_SOLVER_CONVERGENCE_MSG)\n"
     ]
    }
   ],
   "source": [
    "Accuracy = []\n",
    "Iteration = []\n",
    "for i in range(100, 2000, 100):\n",
    "    Iteration.append(i)\n",
    "    \n",
    "    clf_tmp = LogisticRegression(max_iter=i)\n",
    "\n",
    "    # We split the data into training and test set\n",
    "    test_size = 0.33\n",
    "    X_train, X_test, Y_train, Y_test = model_selection.train_test_split(X,Y,test_size=test_size, random_state=1)\n",
    "    clf_tmp.fit(X_train, Y_train)\n",
    "\n",
    "    # Accuracy of the model\n",
    "    acc = clf_tmp.score(X_test, Y_test)*100.0\n",
    "    Accuracy.append(acc) "
   ]
  },
  {
   "cell_type": "code",
   "execution_count": 24,
   "metadata": {},
   "outputs": [
    {
     "data": {
      "image/png": "[encoded data removed]",
      "text/plain": [
       "<Figure size 432x288 with 1 Axes>"
      ]
     },
     "metadata": {
      "needs_background": "light"
     },
     "output_type": "display_data"
    }
   ],
   "source": [
    "plt.plot(Iteration, Accuracy)\n",
    "plt.title(\"Relationship between Number of Iteration and Accuracy\")\n",
    "plt.xlabel(\"Number of Iteration\")\n",
    "plt.ylabel(\"Accuracy (%)\")\n",
    "plt.show()"
   ]
  },
  {
   "cell_type": "markdown",
   "metadata": {},
   "source": [
    "We can tell that for the first few times with small number of iterations, the model didn't have the best accuracy. When it reached some value of max iteration, the accuracy won't change anymore.\n",
    "\n",
    "After we know the effect of this hyperparameter, what about the hyperparameter of test size?"
   ]
  },
  {
   "cell_type": "code",
   "execution_count": 32,
   "metadata": {},
   "outputs": [],
   "source": [
    "Accuracy = []\n",
    "size = []\n",
    "for i in range(10, 70, 1):\n",
    "    size.append(i / 100)\n",
    "    \n",
    "    clf_tmp = LogisticRegression(max_iter=500)\n",
    "\n",
    "    # We split the data into training and test set\n",
    "    test_size = i / 100\n",
    "    X_train, X_test, Y_train, Y_test = model_selection.train_test_split(X,Y,test_size=test_size, random_state=1)\n",
    "    clf_tmp.fit(X_train, Y_train)\n",
    "\n",
    "    # Accuracy of the model\n",
    "    acc = clf_tmp.score(X_test, Y_test)*100.0\n",
    "    Accuracy.append(acc) "
   ]
  },
  {
   "cell_type": "code",
   "execution_count": 33,
   "metadata": {},
   "outputs": [
    {
     "data": {
      "image/png": "[encoded data removed]",
      "text/plain": [
       "<Figure size 432x288 with 1 Axes>"
      ]
     },
     "metadata": {
      "needs_background": "light"
     },
     "output_type": "display_data"
    }
   ],
   "source": [
    "plt.plot(size, Accuracy)\n",
    "plt.title(\"Relationship between Test Size and Accuracy\")\n",
    "plt.xlabel(\"Test Size\")\n",
    "plt.ylabel(\"Accuracy (%)\")\n",
    "plt.show()"
   ]
  },
  {
   "cell_type": "code",
   "execution_count": 39,
   "metadata": {},
   "outputs": [
    {
     "name": "stdout",
     "output_type": "stream",
     "text": [
      "The highest accuracy is reached when the test size is: 0.14.\n",
      "The highest accuracy is: 79.630%.\n"
     ]
    }
   ],
   "source": [
    "index = Accuracy.index(max(Accuracy))\n",
    "print(\"The highest accuracy is reached when the test size is: %.2f.\" % size[index])\n",
    "print(\"The highest accuracy is: %.3f%%.\" % Accuracy[index])"
   ]
  },
  {
   "cell_type": "markdown",
   "metadata": {},
   "source": [
    "The highest accuracy is reached when the test size is 0.14, and the highest accuracy is 79.630%. Thus, the test size does impact the results. This is reasonable because with different training and testing data, the model will be trained differently and as a result, the accuracy will be different."
   ]
  },
  {
   "cell_type": "markdown",
   "metadata": {},
   "source": [
    "We are done playing with the non-DNN algorithm,and now we can move to the DNN algorithm."
   ]
  },
  {
   "cell_type": "markdown",
   "metadata": {},
   "source": [
    "## Implementing A DNN Algorithm"
   ]
  },
  {
   "cell_type": "code",
   "execution_count": 40,
   "metadata": {},
   "outputs": [
    {
     "name": "stderr",
     "output_type": "stream",
     "text": [
      "/home/csuser/.local/lib/python3.6/site-packages/tensorflow/python/framework/dtypes.py:516: FutureWarning: Passing (type, 1) or '1type' as a synonym of type is deprecated; in a future version of numpy, it will be understood as (type, (1,)) / '(1,)type'.\n",
      "  _np_qint8 = np.dtype([(\"qint8\", np.int8, 1)])\n",
      "/home/csuser/.local/lib/python3.6/site-packages/tensorflow/python/framework/dtypes.py:517: FutureWarning: Passing (type, 1) or '1type' as a synonym of type is deprecated; in a future version of numpy, it will be understood as (type, (1,)) / '(1,)type'.\n",
      "  _np_quint8 = np.dtype([(\"quint8\", np.uint8, 1)])\n",
      "/home/csuser/.local/lib/python3.6/site-packages/tensorflow/python/framework/dtypes.py:518: FutureWarning: Passing (type, 1) or '1type' as a synonym of type is deprecated; in a future version of numpy, it will be understood as (type, (1,)) / '(1,)type'.\n",
      "  _np_qint16 = np.dtype([(\"qint16\", np.int16, 1)])\n",
      "/home/csuser/.local/lib/python3.6/site-packages/tensorflow/python/framework/dtypes.py:519: FutureWarning: Passing (type, 1) or '1type' as a synonym of type is deprecated; in a future version of numpy, it will be understood as (type, (1,)) / '(1,)type'.\n",
      "  _np_quint16 = np.dtype([(\"quint16\", np.uint16, 1)])\n",
      "/home/csuser/.local/lib/python3.6/site-packages/tensorflow/python/framework/dtypes.py:520: FutureWarning: Passing (type, 1) or '1type' as a synonym of type is deprecated; in a future version of numpy, it will be understood as (type, (1,)) / '(1,)type'.\n",
      "  _np_qint32 = np.dtype([(\"qint32\", np.int32, 1)])\n",
      "/home/csuser/.local/lib/python3.6/site-packages/tensorflow/python/framework/dtypes.py:525: FutureWarning: Passing (type, 1) or '1type' as a synonym of type is deprecated; in a future version of numpy, it will be understood as (type, (1,)) / '(1,)type'.\n",
      "  np_resource = np.dtype([(\"resource\", np.ubyte, 1)])\n"
     ]
    }
   ],
   "source": [
    "# Import tensorflow library\n",
    "import tensorflow as tf\n",
    "\n",
    "# split the data with the best ratio we got from last part\n",
    "# (this ratio is only a reference - it could not be the best ratio for DNN)\n",
    "test_size = 0.14\n",
    "X_train, X_test, Y_train, Y_test = model_selection.train_test_split(X,Y,test_size=test_size, random_state=1)\n",
    "\n",
    "# Normalize the train dataset\n",
    "X_train = tf.keras.utils.normalize(X_train, axis=1)\n",
    "# Normalize the test dataset\n",
    "X_test = tf.keras.utils.normalize(X_test, axis=1)"
   ]
  },
  {
   "cell_type": "code",
   "execution_count": 45,
   "metadata": {},
   "outputs": [
    {
     "name": "stdout",
     "output_type": "stream",
     "text": [
      "Epoch 1/100\n",
      "660/660 [==============================] - 0s 154us/sample - loss: 0.6855 - acc: 0.5470\n",
      "Epoch 2/100\n",
      "660/660 [==============================] - 0s 33us/sample - loss: 0.6716 - acc: 0.6123\n",
      "Epoch 3/100\n",
      "660/660 [==============================] - 0s 34us/sample - loss: 0.6602 - acc: 0.6449\n",
      "Epoch 4/100\n",
      "660/660 [==============================] - 0s 33us/sample - loss: 0.6533 - acc: 0.6515\n",
      "Epoch 5/100\n",
      "660/660 [==============================] - 0s 33us/sample - loss: 0.6492 - acc: 0.6515\n",
      "Epoch 6/100\n",
      "660/660 [==============================] - 0s 31us/sample - loss: 0.6476 - acc: 0.6515\n",
      "Epoch 7/100\n",
      "660/660 [==============================] - 0s 32us/sample - loss: 0.6463 - acc: 0.6515\n",
      "Epoch 8/100\n",
      "660/660 [==============================] - 0s 31us/sample - loss: 0.6457 - acc: 0.6515\n",
      "Epoch 9/100\n",
      "660/660 [==============================] - 0s 33us/sample - loss: 0.6447 - acc: 0.6515\n",
      "Epoch 10/100\n",
      "660/660 [==============================] - 0s 31us/sample - loss: 0.6439 - acc: 0.6515\n",
      "Epoch 11/100\n",
      "660/660 [==============================] - 0s 32us/sample - loss: 0.6433 - acc: 0.6515\n",
      "Epoch 12/100\n",
      "660/660 [==============================] - 0s 32us/sample - loss: 0.6428 - acc: 0.6515\n",
      "Epoch 13/100\n",
      "660/660 [==============================] - 0s 33us/sample - loss: 0.6422 - acc: 0.6515\n",
      "Epoch 14/100\n",
      "660/660 [==============================] - 0s 31us/sample - loss: 0.6418 - acc: 0.6515\n",
      "Epoch 15/100\n",
      "660/660 [==============================] - 0s 32us/sample - loss: 0.6410 - acc: 0.6515\n",
      "Epoch 16/100\n",
      "660/660 [==============================] - 0s 32us/sample - loss: 0.6405 - acc: 0.6515\n",
      "Epoch 17/100\n",
      "660/660 [==============================] - 0s 32us/sample - loss: 0.6399 - acc: 0.6515\n",
      "Epoch 18/100\n",
      "660/660 [==============================] - 0s 31us/sample - loss: 0.6391 - acc: 0.6515\n",
      "Epoch 19/100\n",
      "660/660 [==============================] - 0s 32us/sample - loss: 0.6382 - acc: 0.6515\n",
      "Epoch 20/100\n",
      "660/660 [==============================] - 0s 32us/sample - loss: 0.6376 - acc: 0.6515\n",
      "Epoch 21/100\n",
      "660/660 [==============================] - 0s 31us/sample - loss: 0.6374 - acc: 0.6515\n",
      "Epoch 22/100\n",
      "660/660 [==============================] - 0s 32us/sample - loss: 0.6352 - acc: 0.6515\n",
      "Epoch 23/100\n",
      "660/660 [==============================] - 0s 32us/sample - loss: 0.6340 - acc: 0.6515\n",
      "Epoch 24/100\n",
      "660/660 [==============================] - 0s 32us/sample - loss: 0.6329 - acc: 0.6515\n",
      "Epoch 25/100\n",
      "660/660 [==============================] - 0s 31us/sample - loss: 0.6317 - acc: 0.6515\n",
      "Epoch 26/100\n",
      "660/660 [==============================] - 0s 31us/sample - loss: 0.6328 - acc: 0.6515\n",
      "Epoch 27/100\n",
      "660/660 [==============================] - 0s 34us/sample - loss: 0.6299 - acc: 0.6515\n",
      "Epoch 28/100\n",
      "660/660 [==============================] - 0s 32us/sample - loss: 0.6288 - acc: 0.6515\n",
      "Epoch 29/100\n",
      "660/660 [==============================] - 0s 33us/sample - loss: 0.6271 - acc: 0.6515\n",
      "Epoch 30/100\n",
      "660/660 [==============================] - 0s 31us/sample - loss: 0.6250 - acc: 0.6515\n",
      "Epoch 31/100\n",
      "660/660 [==============================] - 0s 31us/sample - loss: 0.6240 - acc: 0.6515\n",
      "Epoch 32/100\n",
      "660/660 [==============================] - 0s 32us/sample - loss: 0.6219 - acc: 0.6515\n",
      "Epoch 33/100\n",
      "660/660 [==============================] - 0s 33us/sample - loss: 0.6208 - acc: 0.6515\n",
      "Epoch 34/100\n",
      "660/660 [==============================] - 0s 31us/sample - loss: 0.6184 - acc: 0.6515\n",
      "Epoch 35/100\n",
      "660/660 [==============================] - 0s 32us/sample - loss: 0.6169 - acc: 0.6515\n",
      "Epoch 36/100\n",
      "660/660 [==============================] - 0s 31us/sample - loss: 0.6159 - acc: 0.6515\n",
      "Epoch 37/100\n",
      "660/660 [==============================] - 0s 33us/sample - loss: 0.6136 - acc: 0.6515\n",
      "Epoch 38/100\n",
      "660/660 [==============================] - 0s 31us/sample - loss: 0.6113 - acc: 0.6515\n",
      "Epoch 39/100\n",
      "660/660 [==============================] - 0s 31us/sample - loss: 0.6096 - acc: 0.6515\n",
      "Epoch 40/100\n",
      "660/660 [==============================] - 0s 31us/sample - loss: 0.6081 - acc: 0.6517\n",
      "Epoch 41/100\n",
      "660/660 [==============================] - 0s 31us/sample - loss: 0.6058 - acc: 0.6515\n",
      "Epoch 42/100\n",
      "660/660 [==============================] - 0s 33us/sample - loss: 0.6040 - acc: 0.6528\n",
      "Epoch 43/100\n",
      "660/660 [==============================] - 0s 32us/sample - loss: 0.6021 - acc: 0.6527\n",
      "Epoch 44/100\n",
      "660/660 [==============================] - 0s 32us/sample - loss: 0.5997 - acc: 0.6545\n",
      "Epoch 45/100\n",
      "660/660 [==============================] - 0s 33us/sample - loss: 0.5975 - acc: 0.6538\n",
      "Epoch 46/100\n",
      "660/660 [==============================] - 0s 32us/sample - loss: 0.5951 - acc: 0.6559\n",
      "Epoch 47/100\n",
      "660/660 [==============================] - 0s 32us/sample - loss: 0.5939 - acc: 0.6578\n",
      "Epoch 48/100\n",
      "660/660 [==============================] - 0s 31us/sample - loss: 0.5923 - acc: 0.6555\n",
      "Epoch 49/100\n",
      "660/660 [==============================] - 0s 33us/sample - loss: 0.5899 - acc: 0.6667\n",
      "Epoch 50/100\n",
      "660/660 [==============================] - 0s 31us/sample - loss: 0.5886 - acc: 0.6674\n",
      "Epoch 51/100\n",
      "660/660 [==============================] - 0s 31us/sample - loss: 0.5867 - acc: 0.6687\n",
      "Epoch 52/100\n",
      "660/660 [==============================] - 0s 31us/sample - loss: 0.5845 - acc: 0.6786\n",
      "Epoch 53/100\n",
      "660/660 [==============================] - 0s 31us/sample - loss: 0.5832 - acc: 0.6822\n",
      "Epoch 54/100\n",
      "660/660 [==============================] - 0s 31us/sample - loss: 0.5847 - acc: 0.6697\n",
      "Epoch 55/100\n",
      "660/660 [==============================] - 0s 31us/sample - loss: 0.5808 - acc: 0.6956\n",
      "Epoch 56/100\n",
      "660/660 [==============================] - 0s 32us/sample - loss: 0.5813 - acc: 0.6792\n",
      "Epoch 57/100\n",
      "660/660 [==============================] - 0s 31us/sample - loss: 0.5782 - acc: 0.7013\n",
      "Epoch 58/100\n",
      "660/660 [==============================] - 0s 32us/sample - loss: 0.5772 - acc: 0.6867\n",
      "Epoch 59/100\n",
      "660/660 [==============================] - 0s 31us/sample - loss: 0.5742 - acc: 0.7002\n",
      "Epoch 60/100\n",
      "660/660 [==============================] - 0s 31us/sample - loss: 0.5727 - acc: 0.7021\n",
      "Epoch 61/100\n",
      "660/660 [==============================] - 0s 32us/sample - loss: 0.5729 - acc: 0.6977\n",
      "Epoch 62/100\n",
      "660/660 [==============================] - 0s 32us/sample - loss: 0.5716 - acc: 0.7002\n",
      "Epoch 63/100\n",
      "660/660 [==============================] - 0s 33us/sample - loss: 0.5694 - acc: 0.7091\n",
      "Epoch 64/100\n",
      "660/660 [==============================] - 0s 33us/sample - loss: 0.5689 - acc: 0.7030\n",
      "Epoch 65/100\n",
      "660/660 [==============================] - 0s 31us/sample - loss: 0.5685 - acc: 0.7070\n",
      "Epoch 66/100\n",
      "660/660 [==============================] - 0s 31us/sample - loss: 0.5712 - acc: 0.7121\n",
      "Epoch 67/100\n",
      "660/660 [==============================] - 0s 32us/sample - loss: 0.5686 - acc: 0.7000\n",
      "Epoch 68/100\n",
      "660/660 [==============================] - 0s 32us/sample - loss: 0.5650 - acc: 0.7170\n",
      "Epoch 69/100\n",
      "660/660 [==============================] - 0s 32us/sample - loss: 0.5643 - acc: 0.7131\n",
      "Epoch 70/100\n",
      "660/660 [==============================] - 0s 32us/sample - loss: 0.5645 - acc: 0.7150\n",
      "Epoch 71/100\n",
      "660/660 [==============================] - 0s 33us/sample - loss: 0.5634 - acc: 0.7140\n",
      "Epoch 72/100\n",
      "660/660 [==============================] - 0s 32us/sample - loss: 0.5615 - acc: 0.7155\n",
      "Epoch 73/100\n",
      "660/660 [==============================] - 0s 33us/sample - loss: 0.5652 - acc: 0.7034\n",
      "Epoch 74/100\n",
      "660/660 [==============================] - 0s 32us/sample - loss: 0.5637 - acc: 0.7102\n",
      "Epoch 75/100\n",
      "660/660 [==============================] - 0s 32us/sample - loss: 0.5592 - acc: 0.7138\n",
      "Epoch 76/100\n",
      "660/660 [==============================] - 0s 31us/sample - loss: 0.5597 - acc: 0.7098\n",
      "Epoch 77/100\n",
      "660/660 [==============================] - 0s 31us/sample - loss: 0.5621 - acc: 0.7095\n",
      "Epoch 78/100\n",
      "660/660 [==============================] - 0s 33us/sample - loss: 0.5592 - acc: 0.7148\n",
      "Epoch 79/100\n",
      "660/660 [==============================] - 0s 32us/sample - loss: 0.5560 - acc: 0.7169\n",
      "Epoch 80/100\n",
      "660/660 [==============================] - 0s 32us/sample - loss: 0.5576 - acc: 0.7208\n",
      "Epoch 81/100\n",
      "660/660 [==============================] - 0s 32us/sample - loss: 0.5559 - acc: 0.7167\n",
      "Epoch 82/100\n",
      "660/660 [==============================] - 0s 32us/sample - loss: 0.5552 - acc: 0.7172\n",
      "Epoch 83/100\n"
     ]
    },
    {
     "name": "stdout",
     "output_type": "stream",
     "text": [
      "660/660 [==============================] - 0s 33us/sample - loss: 0.5541 - acc: 0.7193\n",
      "Epoch 84/100\n",
      "660/660 [==============================] - 0s 32us/sample - loss: 0.5562 - acc: 0.7201\n",
      "Epoch 85/100\n",
      "660/660 [==============================] - 0s 32us/sample - loss: 0.5555 - acc: 0.7119\n",
      "Epoch 86/100\n",
      "660/660 [==============================] - 0s 31us/sample - loss: 0.5533 - acc: 0.7142\n",
      "Epoch 87/100\n",
      "660/660 [==============================] - 0s 32us/sample - loss: 0.5519 - acc: 0.7197\n",
      "Epoch 88/100\n",
      "660/660 [==============================] - 0s 32us/sample - loss: 0.5538 - acc: 0.7212\n",
      "Epoch 89/100\n",
      "660/660 [==============================] - 0s 31us/sample - loss: 0.5520 - acc: 0.7201\n",
      "Epoch 90/100\n",
      "660/660 [==============================] - 0s 32us/sample - loss: 0.5511 - acc: 0.7182\n",
      "Epoch 91/100\n",
      "660/660 [==============================] - 0s 32us/sample - loss: 0.5517 - acc: 0.7208\n",
      "Epoch 92/100\n",
      "660/660 [==============================] - 0s 31us/sample - loss: 0.5519 - acc: 0.7189\n",
      "Epoch 93/100\n",
      "660/660 [==============================] - 0s 32us/sample - loss: 0.5518 - acc: 0.7189\n",
      "Epoch 94/100\n",
      "660/660 [==============================] - 0s 32us/sample - loss: 0.5505 - acc: 0.7163\n",
      "Epoch 95/100\n",
      "660/660 [==============================] - 0s 32us/sample - loss: 0.5497 - acc: 0.7182\n",
      "Epoch 96/100\n",
      "660/660 [==============================] - 0s 32us/sample - loss: 0.5485 - acc: 0.7188\n",
      "Epoch 97/100\n",
      "660/660 [==============================] - 0s 31us/sample - loss: 0.5505 - acc: 0.7223\n",
      "Epoch 98/100\n",
      "660/660 [==============================] - 0s 32us/sample - loss: 0.5485 - acc: 0.7169\n",
      "Epoch 99/100\n",
      "660/660 [==============================] - 0s 32us/sample - loss: 0.5477 - acc: 0.7188\n",
      "Epoch 100/100\n",
      "660/660 [==============================] - 0s 32us/sample - loss: 0.5489 - acc: 0.7125\n"
     ]
    }
   ],
   "source": [
    "# Build the model object\n",
    "model = tf.keras.models.Sequential()\n",
    "# Add the Flatten Layer\n",
    "model.add(tf.keras.layers.Flatten())\n",
    "# Build the input and the hidden layers\n",
    "model.add(tf.keras.layers.Dense(32, activation=tf.nn.relu))\n",
    "model.add(tf.keras.layers.Dense(16, activation=tf.nn.relu))\n",
    "# Build the output layer\n",
    "model.add(tf.keras.layers.Dense(8, activation=tf.nn.sigmoid))\n",
    "\n",
    "# Compile the model\n",
    "model.compile(optimizer=\"adam\", loss=\"binary_crossentropy\", metrics=[\"accuracy\"])\n",
    "\n",
    "history = model.fit(x=X_train, y=Y_train, verbose=1, epochs=100) # Start training process"
   ]
  },
  {
   "cell_type": "code",
   "execution_count": 46,
   "metadata": {},
   "outputs": [
    {
     "name": "stdout",
     "output_type": "stream",
     "text": [
      "108/108 [==============================] - 0s 275us/sample - loss: 0.5836 - acc: 0.7176\n",
      "Accuracy: 71.76\n"
     ]
    }
   ],
   "source": [
    "# Evaluate the keras model\n",
    "_, accuracy = model.evaluate(X_test, Y_test)\n",
    "print('Accuracy: %.2f' % (accuracy*100))"
   ]
  },
  {
   "cell_type": "markdown",
   "metadata": {},
   "source": [
    "The training accuracy is 71.25% and the testing accuracy is 71.76% which are lower than the Logistic Regression classifier. Let's try to tune the hyperparameter, and see if the results for DNN will be better."
   ]
  },
  {
   "cell_type": "code",
   "execution_count": 83,
   "metadata": {},
   "outputs": [
    {
     "name": "stdout",
     "output_type": "stream",
     "text": [
      "Epoch 1/100\n",
      "660/660 [==============================] - 0s 381us/sample - loss: 0.6747 - acc: 0.6228\n",
      "Epoch 2/100\n",
      "660/660 [==============================] - 0s 60us/sample - loss: 0.6464 - acc: 0.6515\n",
      "Epoch 3/100\n",
      "660/660 [==============================] - 0s 62us/sample - loss: 0.6443 - acc: 0.6515\n",
      "Epoch 4/100\n",
      "660/660 [==============================] - 0s 59us/sample - loss: 0.6409 - acc: 0.6515\n",
      "Epoch 5/100\n",
      "660/660 [==============================] - 0s 60us/sample - loss: 0.6388 - acc: 0.6515\n",
      "Epoch 6/100\n",
      "660/660 [==============================] - 0s 59us/sample - loss: 0.6356 - acc: 0.6515\n",
      "Epoch 7/100\n",
      "660/660 [==============================] - 0s 60us/sample - loss: 0.6324 - acc: 0.6515\n",
      "Epoch 8/100\n",
      "660/660 [==============================] - 0s 60us/sample - loss: 0.6301 - acc: 0.6515\n",
      "Epoch 9/100\n",
      "660/660 [==============================] - 0s 61us/sample - loss: 0.6258 - acc: 0.6515\n",
      "Epoch 10/100\n",
      "660/660 [==============================] - 0s 60us/sample - loss: 0.6228 - acc: 0.6515\n",
      "Epoch 11/100\n",
      "660/660 [==============================] - 0s 60us/sample - loss: 0.6210 - acc: 0.6515\n",
      "Epoch 12/100\n",
      "660/660 [==============================] - 0s 60us/sample - loss: 0.6178 - acc: 0.6515\n",
      "Epoch 13/100\n",
      "660/660 [==============================] - 0s 60us/sample - loss: 0.6137 - acc: 0.6515\n",
      "Epoch 14/100\n",
      "660/660 [==============================] - 0s 60us/sample - loss: 0.6103 - acc: 0.6515\n",
      "Epoch 15/100\n",
      "660/660 [==============================] - 0s 61us/sample - loss: 0.6065 - acc: 0.6505\n",
      "Epoch 16/100\n",
      "660/660 [==============================] - 0s 61us/sample - loss: 0.6059 - acc: 0.6502\n",
      "Epoch 17/100\n",
      "660/660 [==============================] - 0s 59us/sample - loss: 0.6006 - acc: 0.6546\n",
      "Epoch 18/100\n",
      "660/660 [==============================] - 0s 60us/sample - loss: 0.5982 - acc: 0.6612\n",
      "Epoch 19/100\n",
      "660/660 [==============================] - 0s 59us/sample - loss: 0.5957 - acc: 0.6754\n",
      "Epoch 20/100\n",
      "660/660 [==============================] - 0s 58us/sample - loss: 0.5924 - acc: 0.6664\n",
      "Epoch 21/100\n",
      "660/660 [==============================] - 0s 59us/sample - loss: 0.5902 - acc: 0.6746\n",
      "Epoch 22/100\n",
      "660/660 [==============================] - 0s 59us/sample - loss: 0.5894 - acc: 0.6785\n",
      "Epoch 23/100\n",
      "660/660 [==============================] - 0s 61us/sample - loss: 0.5964 - acc: 0.6855\n",
      "Epoch 24/100\n",
      "660/660 [==============================] - 0s 60us/sample - loss: 0.5882 - acc: 0.6913\n",
      "Epoch 25/100\n",
      "660/660 [==============================] - 0s 60us/sample - loss: 0.5844 - acc: 0.6805\n",
      "Epoch 26/100\n",
      "660/660 [==============================] - 0s 61us/sample - loss: 0.5840 - acc: 0.6886\n",
      "Epoch 27/100\n",
      "660/660 [==============================] - 0s 61us/sample - loss: 0.5803 - acc: 0.6846\n",
      "Epoch 28/100\n",
      "660/660 [==============================] - 0s 62us/sample - loss: 0.5777 - acc: 0.7006\n",
      "Epoch 29/100\n",
      "660/660 [==============================] - 0s 61us/sample - loss: 0.5773 - acc: 0.6952\n",
      "Epoch 30/100\n",
      "660/660 [==============================] - 0s 60us/sample - loss: 0.5744 - acc: 0.6979\n",
      "Epoch 31/100\n",
      "660/660 [==============================] - 0s 61us/sample - loss: 0.5745 - acc: 0.6999\n",
      "Epoch 32/100\n",
      "660/660 [==============================] - 0s 61us/sample - loss: 0.5775 - acc: 0.6881\n",
      "Epoch 33/100\n",
      "660/660 [==============================] - 0s 60us/sample - loss: 0.5723 - acc: 0.7032\n",
      "Epoch 34/100\n",
      "660/660 [==============================] - 0s 60us/sample - loss: 0.5712 - acc: 0.7019\n",
      "Epoch 35/100\n",
      "660/660 [==============================] - 0s 61us/sample - loss: 0.5734 - acc: 0.6956\n",
      "Epoch 36/100\n",
      "660/660 [==============================] - 0s 60us/sample - loss: 0.5682 - acc: 0.7077\n",
      "Epoch 37/100\n",
      "660/660 [==============================] - 0s 58us/sample - loss: 0.5696 - acc: 0.7178\n",
      "Epoch 38/100\n",
      "660/660 [==============================] - 0s 61us/sample - loss: 0.5699 - acc: 0.6995\n",
      "Epoch 39/100\n",
      "660/660 [==============================] - 0s 59us/sample - loss: 0.5674 - acc: 0.6960\n",
      "Epoch 40/100\n",
      "660/660 [==============================] - 0s 58us/sample - loss: 0.5652 - acc: 0.7093\n",
      "Epoch 41/100\n",
      "660/660 [==============================] - 0s 61us/sample - loss: 0.5687 - acc: 0.7049\n",
      "Epoch 42/100\n",
      "660/660 [==============================] - 0s 60us/sample - loss: 0.5648 - acc: 0.7065\n",
      "Epoch 43/100\n",
      "660/660 [==============================] - 0s 60us/sample - loss: 0.5612 - acc: 0.7138\n",
      "Epoch 44/100\n",
      "660/660 [==============================] - 0s 61us/sample - loss: 0.5629 - acc: 0.7058\n",
      "Epoch 45/100\n",
      "660/660 [==============================] - 0s 60us/sample - loss: 0.5643 - acc: 0.7075\n",
      "Epoch 46/100\n",
      "660/660 [==============================] - 0s 60us/sample - loss: 0.5603 - acc: 0.7078\n",
      "Epoch 47/100\n",
      "660/660 [==============================] - 0s 60us/sample - loss: 0.5596 - acc: 0.7117\n",
      "Epoch 48/100\n",
      "660/660 [==============================] - 0s 59us/sample - loss: 0.5595 - acc: 0.7224\n",
      "Epoch 49/100\n",
      "660/660 [==============================] - 0s 60us/sample - loss: 0.5603 - acc: 0.7115\n",
      "Epoch 50/100\n",
      "660/660 [==============================] - 0s 60us/sample - loss: 0.5600 - acc: 0.7166\n",
      "Epoch 51/100\n",
      "660/660 [==============================] - 0s 58us/sample - loss: 0.5576 - acc: 0.7162\n",
      "Epoch 52/100\n",
      "660/660 [==============================] - 0s 60us/sample - loss: 0.5574 - acc: 0.7144\n",
      "Epoch 53/100\n",
      "660/660 [==============================] - 0s 61us/sample - loss: 0.5575 - acc: 0.7100\n",
      "Epoch 54/100\n",
      "660/660 [==============================] - 0s 60us/sample - loss: 0.5578 - acc: 0.7167\n",
      "Epoch 55/100\n",
      "660/660 [==============================] - 0s 59us/sample - loss: 0.5587 - acc: 0.7201\n",
      "Epoch 56/100\n",
      "660/660 [==============================] - 0s 60us/sample - loss: 0.5553 - acc: 0.7215\n",
      "Epoch 57/100\n",
      "660/660 [==============================] - 0s 60us/sample - loss: 0.5558 - acc: 0.7160\n",
      "Epoch 58/100\n",
      "660/660 [==============================] - 0s 60us/sample - loss: 0.5612 - acc: 0.7106\n",
      "Epoch 59/100\n",
      "660/660 [==============================] - 0s 60us/sample - loss: 0.5674 - acc: 0.7097\n",
      "Epoch 60/100\n",
      "660/660 [==============================] - 0s 61us/sample - loss: 0.5533 - acc: 0.7130\n",
      "Epoch 61/100\n",
      "660/660 [==============================] - 0s 58us/sample - loss: 0.5558 - acc: 0.7181\n",
      "Epoch 62/100\n",
      "660/660 [==============================] - 0s 59us/sample - loss: 0.5536 - acc: 0.7241\n",
      "Epoch 63/100\n",
      "660/660 [==============================] - 0s 59us/sample - loss: 0.5520 - acc: 0.7138\n",
      "Epoch 64/100\n",
      "660/660 [==============================] - 0s 60us/sample - loss: 0.5584 - acc: 0.7109\n",
      "Epoch 65/100\n",
      "660/660 [==============================] - 0s 60us/sample - loss: 0.5562 - acc: 0.7181\n",
      "Epoch 66/100\n",
      "660/660 [==============================] - 0s 60us/sample - loss: 0.5539 - acc: 0.7188\n",
      "Epoch 67/100\n",
      "660/660 [==============================] - 0s 58us/sample - loss: 0.5530 - acc: 0.7236\n",
      "Epoch 68/100\n",
      "660/660 [==============================] - 0s 60us/sample - loss: 0.5559 - acc: 0.7198\n",
      "Epoch 69/100\n",
      "660/660 [==============================] - 0s 60us/sample - loss: 0.5520 - acc: 0.7175\n",
      "Epoch 70/100\n",
      "660/660 [==============================] - 0s 59us/sample - loss: 0.5533 - acc: 0.7163\n",
      "Epoch 71/100\n",
      "660/660 [==============================] - 0s 59us/sample - loss: 0.5485 - acc: 0.7227\n",
      "Epoch 72/100\n",
      "660/660 [==============================] - 0s 60us/sample - loss: 0.5487 - acc: 0.7196\n",
      "Epoch 73/100\n",
      "660/660 [==============================] - 0s 60us/sample - loss: 0.5497 - acc: 0.7197\n",
      "Epoch 74/100\n",
      "660/660 [==============================] - 0s 57us/sample - loss: 0.5498 - acc: 0.7259\n",
      "Epoch 75/100\n",
      "660/660 [==============================] - 0s 58us/sample - loss: 0.5467 - acc: 0.7211\n",
      "Epoch 76/100\n",
      "660/660 [==============================] - 0s 59us/sample - loss: 0.5491 - acc: 0.7208\n",
      "Epoch 77/100\n",
      "660/660 [==============================] - 0s 61us/sample - loss: 0.5463 - acc: 0.7183\n",
      "Epoch 78/100\n",
      "660/660 [==============================] - 0s 60us/sample - loss: 0.5521 - acc: 0.7137\n",
      "Epoch 79/100\n",
      "660/660 [==============================] - 0s 59us/sample - loss: 0.5461 - acc: 0.7132\n",
      "Epoch 80/100\n",
      "660/660 [==============================] - 0s 59us/sample - loss: 0.5464 - acc: 0.7185\n",
      "Epoch 81/100\n",
      "660/660 [==============================] - 0s 58us/sample - loss: 0.5469 - acc: 0.7261\n",
      "Epoch 82/100\n",
      "660/660 [==============================] - 0s 59us/sample - loss: 0.5454 - acc: 0.7288\n",
      "Epoch 83/100\n"
     ]
    },
    {
     "name": "stdout",
     "output_type": "stream",
     "text": [
      "660/660 [==============================] - 0s 60us/sample - loss: 0.5483 - acc: 0.7164\n",
      "Epoch 84/100\n",
      "660/660 [==============================] - 0s 60us/sample - loss: 0.5443 - acc: 0.7179\n",
      "Epoch 85/100\n",
      "660/660 [==============================] - 0s 59us/sample - loss: 0.5496 - acc: 0.7160\n",
      "Epoch 86/100\n",
      "660/660 [==============================] - 0s 59us/sample - loss: 0.5484 - acc: 0.7054\n",
      "Epoch 87/100\n",
      "660/660 [==============================] - 0s 62us/sample - loss: 0.5502 - acc: 0.7153\n",
      "Epoch 88/100\n",
      "660/660 [==============================] - 0s 61us/sample - loss: 0.5509 - acc: 0.7217\n",
      "Epoch 89/100\n",
      "660/660 [==============================] - 0s 60us/sample - loss: 0.5492 - acc: 0.7245\n",
      "Epoch 90/100\n",
      "660/660 [==============================] - 0s 61us/sample - loss: 0.5473 - acc: 0.7174\n",
      "Epoch 91/100\n",
      "660/660 [==============================] - 0s 62us/sample - loss: 0.5443 - acc: 0.7238\n",
      "Epoch 92/100\n",
      "660/660 [==============================] - 0s 59us/sample - loss: 0.5429 - acc: 0.7279\n",
      "Epoch 93/100\n",
      "660/660 [==============================] - 0s 61us/sample - loss: 0.5452 - acc: 0.7175\n",
      "Epoch 94/100\n",
      "660/660 [==============================] - 0s 61us/sample - loss: 0.5479 - acc: 0.7129\n",
      "Epoch 95/100\n",
      "660/660 [==============================] - 0s 60us/sample - loss: 0.5486 - acc: 0.7161\n",
      "Epoch 96/100\n",
      "660/660 [==============================] - 0s 59us/sample - loss: 0.5472 - acc: 0.7161\n",
      "Epoch 97/100\n",
      "660/660 [==============================] - 0s 62us/sample - loss: 0.5440 - acc: 0.7114\n",
      "Epoch 98/100\n",
      "660/660 [==============================] - 0s 59us/sample - loss: 0.5441 - acc: 0.7166\n",
      "Epoch 99/100\n",
      "660/660 [==============================] - 0s 60us/sample - loss: 0.5426 - acc: 0.7288\n",
      "Epoch 100/100\n",
      "660/660 [==============================] - 0s 59us/sample - loss: 0.5408 - acc: 0.7252\n",
      "108/108 [==============================] - 0s 2ms/sample - loss: 0.5768 - acc: 0.7041\n",
      "Accuracy: 70.41\n"
     ]
    }
   ],
   "source": [
    "# Build the model object\n",
    "model_tmp = tf.keras.models.Sequential()\n",
    "# Add the Flatten Layer\n",
    "model_tmp.add(tf.keras.layers.Flatten())\n",
    "# Build the input and the hidden layers\n",
    "model_tmp.add(tf.keras.layers.Dense(512, activation=tf.nn.relu))\n",
    "# Build the output layer\n",
    "model_tmp.add(tf.keras.layers.Dense(128, activation=tf.nn.sigmoid))\n",
    "\n",
    "# Compile the model\n",
    "model_tmp.compile(optimizer=\"adam\", loss=\"binary_crossentropy\", metrics=[\"accuracy\"])\n",
    "\n",
    "history = model_tmp.fit(x=X_train, y=Y_train, verbose=1, epochs=100) # Start training process\n",
    "\n",
    "# Evaluate the keras model\n",
    "_, accuracy = model_tmp.evaluate(X_test, Y_test)\n",
    "print('Accuracy: %.2f' % (accuracy*100))"
   ]
  },
  {
   "cell_type": "markdown",
   "metadata": {},
   "source": [
    "I have tried several hyperparameters on the DNN, but the highest accuracy I got was around 74% which was is lower than the non-DNN algorithm. I guess maybe there are too few data for the DNN."
   ]
  },
  {
   "cell_type": "markdown",
   "metadata": {},
   "source": [
    "## Confusion Matrix for Both Methods"
   ]
  },
  {
   "cell_type": "code",
   "execution_count": 84,
   "metadata": {},
   "outputs": [],
   "source": [
    "import seaborn as sns\n",
    "from sklearn import metrics"
   ]
  },
  {
   "cell_type": "markdown",
   "metadata": {},
   "source": [
    "### Logistic Regression Classifier"
   ]
  },
  {
   "cell_type": "code",
   "execution_count": 101,
   "metadata": {},
   "outputs": [],
   "source": [
    "clf_final = LogisticRegression(max_iter=500)\n",
    "\n",
    "# We split the data into training and test set\n",
    "test_size = 0.14\n",
    "X_train, X_test, Y_train, Y_test = model_selection.train_test_split(X,Y,test_size=test_size, random_state=1)\n",
    "clf_final.fit(X_train, Y_train)\n",
    "\n",
    "predictions_non_DNN = clf_final.predict(X_test)\n",
    "score_non_DNN = clf_final.score(X_test, Y_test)"
   ]
  },
  {
   "cell_type": "code",
   "execution_count": 103,
   "metadata": {},
   "outputs": [
    {
     "data": {
      "image/png": "[encoded data removed]",
      "text/plain": [
       "<Figure size 504x504 with 2 Axes>"
      ]
     },
     "metadata": {
      "needs_background": "light"
     },
     "output_type": "display_data"
    }
   ],
   "source": [
    "cm_non_DNN = metrics.confusion_matrix(Y_test, predictions_non_DNN)\n",
    "plt.figure(figsize=(7,7))\n",
    "sns.heatmap(cm_non_DNN, annot=True, fmt=\".3f\", linewidths=.5, square = True, cmap = 'Blues_r');\n",
    "plt.ylabel('Actual label');\n",
    "plt.xlabel('Predicted label');\n",
    "all_sample_title = 'Accuracy Score: {0}'.format(score_non_DNN)\n",
    "plt.title(all_sample_title, size = 12);"
   ]
  },
  {
   "cell_type": "markdown",
   "metadata": {},
   "source": [
    "### DNN"
   ]
  },
  {
   "cell_type": "code",
   "execution_count": 112,
   "metadata": {},
   "outputs": [],
   "source": [
    "prediction_DNN = model.predict_classes(X_test)\n",
    "cm_DNN = metrics.confusion_matrix(Y_test, prediction_DNN)"
   ]
  },
  {
   "cell_type": "code",
   "execution_count": 111,
   "metadata": {},
   "outputs": [
    {
     "name": "stdout",
     "output_type": "stream",
     "text": [
      "108/108 [==============================] - 0s 49us/sample - loss: 84.2414 - acc: 0.6794\n"
     ]
    },
    {
     "data": {
      "image/png": "[encoded data removed]",
      "text/plain": [
       "<Figure size 504x504 with 2 Axes>"
      ]
     },
     "metadata": {
      "needs_background": "light"
     },
     "output_type": "display_data"
    }
   ],
   "source": [
    "cm_DNN = metrics.confusion_matrix(Y_test, prediction_DNN)\n",
    "plt.figure(figsize=(7,7))\n",
    "sns.heatmap(cm_DNN, annot=True, fmt=\".3f\", linewidths=.5, square = True, cmap = 'Blues_r');\n",
    "plt.ylabel('Actual label');\n",
    "plt.xlabel('Predicted label');\n",
    "_, accuracy = model.evaluate(X_test, Y_test)\n",
    "all_sample_title = 'Accuracy Score: {0}'.format(accuracy)\n",
    "plt.title(all_sample_title, size = 12);"
   ]
  },
  {
   "cell_type": "code",
   "execution_count": null,
   "metadata": {},
   "outputs": [],
   "source": []
  }
 ],
 "metadata": {
  "kernelspec": {
   "display_name": "Python 3",
   "language": "python",
   "name": "python3"
  },
  "language_info": {
   "codemirror_mode": {
    "name": "ipython",
    "version": 3
   },
   "file_extension": ".py",
   "mimetype": "text/x-python",
   "name": "python",
   "nbconvert_exporter": "python",
   "pygments_lexer": "ipython3",
   "version": "3.6.9"
  }
 },
 "nbformat": 4,
 "nbformat_minor": 4
}
