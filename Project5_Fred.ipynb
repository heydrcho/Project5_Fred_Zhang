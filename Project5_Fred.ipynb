{
 "cells": [
  {
   "cell_type": "markdown",
   "metadata": {},
   "source": [
    "# Project 5 DNN and Non-DNN Algorithms with Filled Data"
   ]
  },
  {
   "cell_type": "markdown",
   "metadata": {},
   "source": [
    "In this project, I will use the same dataset in Project 3 Part 2 - pima india. I am going to preprocess the data, and then implement both DNN and non-DNN algorithms to train the model."
   ]
  },
  {
   "cell_type": "markdown",
   "metadata": {},
   "source": [
    "## Imputing the Missing Data"
   ]
  },
  {
   "cell_type": "code",
   "execution_count": 1,
   "metadata": {},
   "outputs": [
    {
     "name": "stdout",
     "output_type": "stream",
     "text": [
      "                0           1           2           3           4           5  \\\n",
      "count  768.000000  768.000000  768.000000  768.000000  768.000000  768.000000   \n",
      "mean     3.845052  120.894531   69.105469   20.536458   79.799479   31.992578   \n",
      "std      3.369578   31.972618   19.355807   15.952218  115.244002    7.884160   \n",
      "min      0.000000    0.000000    0.000000    0.000000    0.000000    0.000000   \n",
      "25%      1.000000   99.000000   62.000000    0.000000    0.000000   27.300000   \n",
      "50%      3.000000  117.000000   72.000000   23.000000   30.500000   32.000000   \n",
      "75%      6.000000  140.250000   80.000000   32.000000  127.250000   36.600000   \n",
      "max     17.000000  199.000000  122.000000   99.000000  846.000000   67.100000   \n",
      "\n",
      "                6           7           8  \n",
      "count  768.000000  768.000000  768.000000  \n",
      "mean     0.471876   33.240885    0.348958  \n",
      "std      0.331329   11.760232    0.476951  \n",
      "min      0.078000   21.000000    0.000000  \n",
      "25%      0.243750   24.000000    0.000000  \n",
      "50%      0.372500   29.000000    0.000000  \n",
      "75%      0.626250   41.000000    1.000000  \n",
      "max      2.420000   81.000000    1.000000  \n"
     ]
    }
   ],
   "source": [
    "# required lib\n",
    "import matplotlib.pyplot as plt\n",
    "from pandas import read_csv\n",
    "from sklearn import model_selection\n",
    "from sklearn.linear_model import LogisticRegression\n",
    "import numpy as np\n",
    "\n",
    "# load the diabetes data set\n",
    "diabetes = read_csv('pima-indians-diabetes.csv', header=None)\n",
    "print(diabetes.describe())"
   ]
  },
  {
   "cell_type": "code",
   "execution_count": 2,
   "metadata": {},
   "outputs": [
    {
     "name": "stdout",
     "output_type": "stream",
     "text": [
      "    0    1   2   3    4     5      6   7  8\n",
      "0   6  148  72  35    0  33.6  0.627  50  1\n",
      "1   1   85  66  29    0  26.6  0.351  31  0\n",
      "2   8  183  64   0    0  23.3  0.672  32  1\n",
      "3   1   89  66  23   94  28.1  0.167  21  0\n",
      "4   0  137  40  35  168  43.1  2.288  33  1\n",
      "5   5  116  74   0    0  25.6  0.201  30  0\n",
      "6   3   78  50  32   88  31.0  0.248  26  1\n",
      "7  10  115   0   0    0  35.3  0.134  29  0\n",
      "8   2  197  70  45  543  30.5  0.158  53  1\n",
      "9   8  125  96   0    0   0.0  0.232  54  1\n"
     ]
    }
   ],
   "source": [
    "# print out the number of examples in the data set\n",
    "print (diabetes.head(10))"
   ]
  },
  {
   "cell_type": "code",
   "execution_count": 3,
   "metadata": {},
   "outputs": [
    {
     "name": "stdout",
     "output_type": "stream",
     "text": [
      "0    1\n",
      "1    0\n",
      "2    0\n",
      "3    2\n",
      "4    4\n",
      "5    0\n",
      "6    0\n",
      "7    0\n",
      "8    3\n",
      "dtype: int64\n"
     ]
    }
   ],
   "source": [
    "# how many blank values\n",
    "print((diabetes[0:6] == 0).sum())"
   ]
  },
  {
   "cell_type": "code",
   "execution_count": 4,
   "metadata": {},
   "outputs": [],
   "source": [
    "# use the simple imputer to fill the missing values\n",
    "from sklearn.impute import SimpleImputer\n",
    "array = diabetes.values\n",
    "X = array[:,0:8]\n",
    "Y = array[:,8]\n",
    "imp = SimpleImputer(missing_values=0, strategy='mean')\n",
    "diabetes_imp = imp.fit(X[:, 0:6])\n",
    "X[:, 0:6] = imp.transform(X[:, 0:6])"
   ]
  },
  {
   "cell_type": "code",
   "execution_count": 5,
   "metadata": {},
   "outputs": [
    {
     "name": "stdout",
     "output_type": "stream",
     "text": [
      "0\n"
     ]
    }
   ],
   "source": [
    "# check if there is any 0 left\n",
    "print((X[0:6] == 0).sum())"
   ]
  },
  {
   "cell_type": "markdown",
   "metadata": {},
   "source": [
    "We can see that there is no missing value - we have done handling the missing data. Now we can move to the next step: implementing a non-DNN algorithm."
   ]
  },
  {
   "cell_type": "markdown",
   "metadata": {},
   "source": [
    "## Implementing A Non-DNN Algorithm"
   ]
  },
  {
   "cell_type": "markdown",
   "metadata": {},
   "source": [
    "Here, we choose to use Logistic Regression classifier."
   ]
  },
  {
   "cell_type": "code",
   "execution_count": 6,
   "metadata": {},
   "outputs": [],
   "source": [
    "# specify Logistic Regression classifier\n",
    "# with the max_iter = 1000\n",
    "# otherwise it will have warning (maximum iteration limit reached)\n",
    "clf = LogisticRegression(max_iter=1000)"
   ]
  },
  {
   "cell_type": "code",
   "execution_count": 7,
   "metadata": {},
   "outputs": [
    {
     "data": {
      "text/plain": [
       "LogisticRegression(max_iter=1000)"
      ]
     },
     "execution_count": 7,
     "metadata": {},
     "output_type": "execute_result"
    }
   ],
   "source": [
    "# We split the data into training and test set\n",
    "test_size = 0.33\n",
    "X_train, X_test, Y_train, Y_test = model_selection.train_test_split(X,Y,test_size=test_size, random_state=1)\n",
    "clf.fit(X_train, Y_train)"
   ]
  },
  {
   "cell_type": "code",
   "execution_count": 8,
   "metadata": {},
   "outputs": [
    {
     "name": "stdout",
     "output_type": "stream",
     "text": [
      "Accuracy: 77.953%\n"
     ]
    }
   ],
   "source": [
    "# Accuracy of the model\n",
    "print('Accuracy: %.3f%%' % (clf.score(X_test, Y_test)*100.0))"
   ]
  },
  {
   "cell_type": "markdown",
   "metadata": {},
   "source": [
    "After we ran the model, we got the accuracy of 77.953% which isn't too bad. We set the max iteration to be 1000. If the max iteration is larger, will we get better result? Let's try that."
   ]
  },
  {
   "cell_type": "code",
   "execution_count": 9,
   "metadata": {},
   "outputs": [
    {
     "name": "stdout",
     "output_type": "stream",
     "text": [
      "Accuracy: 77.953%\n"
     ]
    }
   ],
   "source": [
    "clf_2 = LogisticRegression(max_iter=10000)\n",
    "\n",
    "# We split the data into training and test set\n",
    "test_size = 0.33\n",
    "X_train, X_test, Y_train, Y_test = model_selection.train_test_split(X,Y,test_size=test_size, random_state=1)\n",
    "clf_2.fit(X_train, Y_train)\n",
    "\n",
    "# Accuracy of the model\n",
    "print('Accuracy: %.3f%%' % (clf_2.score(X_test, Y_test)*100.0))"
   ]
  },
  {
   "cell_type": "markdown",
   "metadata": {},
   "source": [
    "The accuracy didn't change. We can take a guess that the cost function will no longer change because it has already converged. To prove this assumption, let's tune the number of iterations and plot the graph."
   ]
  },
  {
   "cell_type": "code",
   "execution_count": 10,
   "metadata": {},
   "outputs": [
    {
     "name": "stderr",
     "output_type": "stream",
     "text": [
      "/home/csuser/.local/lib/python3.6/site-packages/sklearn/linear_model/_logistic.py:765: ConvergenceWarning: lbfgs failed to converge (status=1):\n",
      "STOP: TOTAL NO. of ITERATIONS REACHED LIMIT.\n",
      "\n",
      "Increase the number of iterations (max_iter) or scale the data as shown in:\n",
      "    https://scikit-learn.org/stable/modules/preprocessing.html\n",
      "Please also refer to the documentation for alternative solver options:\n",
      "    https://scikit-learn.org/stable/modules/linear_model.html#logistic-regression\n",
      "  extra_warning_msg=_LOGISTIC_SOLVER_CONVERGENCE_MSG)\n"
     ]
    }
   ],
   "source": [
    "Accuracy = []\n",
    "Iteration = []\n",
    "for i in range(100, 2000, 100):\n",
    "    Iteration.append(i)\n",
    "    \n",
    "    clf_tmp = LogisticRegression(max_iter=i)\n",
    "\n",
    "    # We split the data into training and test set\n",
    "    test_size = 0.33\n",
    "    X_train, X_test, Y_train, Y_test = model_selection.train_test_split(X,Y,test_size=test_size, random_state=1)\n",
    "    clf_tmp.fit(X_train, Y_train)\n",
    "\n",
    "    # Accuracy of the model\n",
    "    acc = clf_tmp.score(X_test, Y_test)*100.0\n",
    "    Accuracy.append(acc) "
   ]
  },
  {
   "cell_type": "code",
   "execution_count": 11,
   "metadata": {},
   "outputs": [
    {
     "data": {
      "image/png": "[encoded data removed]",
      "text/plain": [
       "<Figure size 432x288 with 1 Axes>"
      ]
     },
     "metadata": {
      "needs_background": "light"
     },
     "output_type": "display_data"
    }
   ],
   "source": [
    "plt.plot(Iteration, Accuracy)\n",
    "plt.title(\"Relationship between Number of Iteration and Accuracy\")\n",
    "plt.xlabel(\"Number of Iteration\")\n",
    "plt.ylabel(\"Accuracy (%)\")\n",
    "plt.show()"
   ]
  },
  {
   "cell_type": "markdown",
   "metadata": {},
   "source": [
    "We can tell that for the first few times with small number of iterations, the model didn't have the best accuracy. When it reached some value of max iteration, the accuracy won't change anymore.\n",
    "\n",
    "After we know the effect of this hyperparameter, what about the hyperparameter of test size?"
   ]
  },
  {
   "cell_type": "code",
   "execution_count": 12,
   "metadata": {},
   "outputs": [],
   "source": [
    "Accuracy = []\n",
    "size = []\n",
    "for i in range(10, 70, 1):\n",
    "    size.append(i / 100)\n",
    "    \n",
    "    clf_tmp = LogisticRegression(max_iter=500)\n",
    "\n",
    "    # We split the data into training and test set\n",
    "    test_size = i / 100\n",
    "    X_train, X_test, Y_train, Y_test = model_selection.train_test_split(X,Y,test_size=test_size, random_state=1)\n",
    "    clf_tmp.fit(X_train, Y_train)\n",
    "\n",
    "    # Accuracy of the model\n",
    "    acc = clf_tmp.score(X_test, Y_test)*100.0\n",
    "    Accuracy.append(acc) "
   ]
  },
  {
   "cell_type": "code",
   "execution_count": 13,
   "metadata": {},
   "outputs": [
    {
     "data": {
      "image/png": "[encoded data removed]",
      "text/plain": [
       "<Figure size 432x288 with 1 Axes>"
      ]
     },
     "metadata": {
      "needs_background": "light"
     },
     "output_type": "display_data"
    }
   ],
   "source": [
    "plt.plot(size, Accuracy)\n",
    "plt.title(\"Relationship between Test Size and Accuracy\")\n",
    "plt.xlabel(\"Test Size\")\n",
    "plt.ylabel(\"Accuracy (%)\")\n",
    "plt.show()"
   ]
  },
  {
   "cell_type": "code",
   "execution_count": 14,
   "metadata": {},
   "outputs": [
    {
     "name": "stdout",
     "output_type": "stream",
     "text": [
      "The highest accuracy is reached when the test size is: 0.14.\n",
      "The highest accuracy is: 79.630%.\n"
     ]
    }
   ],
   "source": [
    "index = Accuracy.index(max(Accuracy))\n",
    "print(\"The highest accuracy is reached when the test size is: %.2f.\" % size[index])\n",
    "print(\"The highest accuracy is: %.3f%%.\" % Accuracy[index])"
   ]
  },
  {
   "cell_type": "markdown",
   "metadata": {},
   "source": [
    "The highest accuracy is reached when the test size is 0.14, and the highest accuracy is 79.630%. Thus, the test size does impact the results. This is reasonable because with different training and testing data, the model will be trained differently and as a result, the accuracy will be different."
   ]
  },
  {
   "cell_type": "markdown",
   "metadata": {},
   "source": [
    "We are done playing with the non-DNN algorithm,and now we can move to the DNN algorithm."
   ]
  },
  {
   "cell_type": "markdown",
   "metadata": {},
   "source": [
    "## Implementing A DNN Algorithm"
   ]
  },
  {
   "cell_type": "code",
   "execution_count": 15,
   "metadata": {},
   "outputs": [
    {
     "name": "stderr",
     "output_type": "stream",
     "text": [
      "/home/csuser/.local/lib/python3.6/site-packages/tensorflow/python/framework/dtypes.py:516: FutureWarning: Passing (type, 1) or '1type' as a synonym of type is deprecated; in a future version of numpy, it will be understood as (type, (1,)) / '(1,)type'.\n",
      "  _np_qint8 = np.dtype([(\"qint8\", np.int8, 1)])\n",
      "/home/csuser/.local/lib/python3.6/site-packages/tensorflow/python/framework/dtypes.py:517: FutureWarning: Passing (type, 1) or '1type' as a synonym of type is deprecated; in a future version of numpy, it will be understood as (type, (1,)) / '(1,)type'.\n",
      "  _np_quint8 = np.dtype([(\"quint8\", np.uint8, 1)])\n",
      "/home/csuser/.local/lib/python3.6/site-packages/tensorflow/python/framework/dtypes.py:518: FutureWarning: Passing (type, 1) or '1type' as a synonym of type is deprecated; in a future version of numpy, it will be understood as (type, (1,)) / '(1,)type'.\n",
      "  _np_qint16 = np.dtype([(\"qint16\", np.int16, 1)])\n",
      "/home/csuser/.local/lib/python3.6/site-packages/tensorflow/python/framework/dtypes.py:519: FutureWarning: Passing (type, 1) or '1type' as a synonym of type is deprecated; in a future version of numpy, it will be understood as (type, (1,)) / '(1,)type'.\n",
      "  _np_quint16 = np.dtype([(\"quint16\", np.uint16, 1)])\n",
      "/home/csuser/.local/lib/python3.6/site-packages/tensorflow/python/framework/dtypes.py:520: FutureWarning: Passing (type, 1) or '1type' as a synonym of type is deprecated; in a future version of numpy, it will be understood as (type, (1,)) / '(1,)type'.\n",
      "  _np_qint32 = np.dtype([(\"qint32\", np.int32, 1)])\n",
      "/home/csuser/.local/lib/python3.6/site-packages/tensorflow/python/framework/dtypes.py:525: FutureWarning: Passing (type, 1) or '1type' as a synonym of type is deprecated; in a future version of numpy, it will be understood as (type, (1,)) / '(1,)type'.\n",
      "  np_resource = np.dtype([(\"resource\", np.ubyte, 1)])\n"
     ]
    }
   ],
   "source": [
    "# Import tensorflow library\n",
    "import tensorflow as tf\n",
    "\n",
    "# split the data with the best ratio we got from last part\n",
    "# (this ratio is only a reference - it could not be the best ratio for DNN)\n",
    "test_size = 0.14\n",
    "X_train, X_test, Y_train, Y_test = model_selection.train_test_split(X,Y,test_size=test_size, random_state=1)\n",
    "\n",
    "# Normalize the train dataset\n",
    "X_train = tf.keras.utils.normalize(X_train, axis=1)\n",
    "# Normalize the test dataset\n",
    "X_test = tf.keras.utils.normalize(X_test, axis=1)"
   ]
  },
  {
   "cell_type": "code",
   "execution_count": 16,
   "metadata": {},
   "outputs": [
    {
     "name": "stdout",
     "output_type": "stream",
     "text": [
      "WARNING:tensorflow:From /home/csuser/.local/lib/python3.6/site-packages/tensorflow/python/ops/init_ops.py:1251: calling VarianceScaling.__init__ (from tensorflow.python.ops.init_ops) with dtype is deprecated and will be removed in a future version.\n",
      "Instructions for updating:\n",
      "Call initializer instance with the dtype argument instead of passing it to the constructor\n",
      "WARNING:tensorflow:From /home/csuser/.local/lib/python3.6/site-packages/tensorflow/python/ops/nn_impl.py:180: add_dispatch_support.<locals>.wrapper (from tensorflow.python.ops.array_ops) is deprecated and will be removed in a future version.\n",
      "Instructions for updating:\n",
      "Use tf.where in 2.0, which has the same broadcast rule as np.where\n",
      "Epoch 1/100\n",
      "660/660 [==============================] - 0s 336us/sample - loss: 0.6698 - acc: 0.6515\n",
      "Epoch 2/100\n",
      "660/660 [==============================] - 0s 35us/sample - loss: 0.6491 - acc: 0.6515\n",
      "Epoch 3/100\n",
      "660/660 [==============================] - 0s 35us/sample - loss: 0.6444 - acc: 0.6515\n",
      "Epoch 4/100\n",
      "660/660 [==============================] - 0s 34us/sample - loss: 0.6423 - acc: 0.6515\n",
      "Epoch 5/100\n",
      "660/660 [==============================] - 0s 35us/sample - loss: 0.6412 - acc: 0.6515\n",
      "Epoch 6/100\n",
      "660/660 [==============================] - 0s 33us/sample - loss: 0.6394 - acc: 0.6515\n",
      "Epoch 7/100\n",
      "660/660 [==============================] - 0s 33us/sample - loss: 0.6380 - acc: 0.6515\n",
      "Epoch 8/100\n",
      "660/660 [==============================] - 0s 32us/sample - loss: 0.6366 - acc: 0.6515\n",
      "Epoch 9/100\n",
      "660/660 [==============================] - 0s 32us/sample - loss: 0.6354 - acc: 0.6515\n",
      "Epoch 10/100\n",
      "660/660 [==============================] - 0s 33us/sample - loss: 0.6338 - acc: 0.6515\n",
      "Epoch 11/100\n",
      "660/660 [==============================] - 0s 33us/sample - loss: 0.6328 - acc: 0.6515\n",
      "Epoch 12/100\n",
      "660/660 [==============================] - 0s 31us/sample - loss: 0.6308 - acc: 0.6515\n",
      "Epoch 13/100\n",
      "660/660 [==============================] - 0s 33us/sample - loss: 0.6290 - acc: 0.6515\n",
      "Epoch 14/100\n",
      "660/660 [==============================] - 0s 32us/sample - loss: 0.6280 - acc: 0.6515\n",
      "Epoch 15/100\n",
      "660/660 [==============================] - 0s 32us/sample - loss: 0.6249 - acc: 0.6515\n",
      "Epoch 16/100\n",
      "660/660 [==============================] - 0s 31us/sample - loss: 0.6229 - acc: 0.6515\n",
      "Epoch 17/100\n",
      "660/660 [==============================] - 0s 31us/sample - loss: 0.6215 - acc: 0.6515\n",
      "Epoch 18/100\n",
      "660/660 [==============================] - 0s 32us/sample - loss: 0.6192 - acc: 0.6515\n",
      "Epoch 19/100\n",
      "660/660 [==============================] - 0s 32us/sample - loss: 0.6170 - acc: 0.6515\n",
      "Epoch 20/100\n",
      "660/660 [==============================] - 0s 32us/sample - loss: 0.6153 - acc: 0.6500\n",
      "Epoch 21/100\n",
      "660/660 [==============================] - 0s 32us/sample - loss: 0.6133 - acc: 0.6515\n",
      "Epoch 22/100\n",
      "660/660 [==============================] - 0s 32us/sample - loss: 0.6114 - acc: 0.6530\n",
      "Epoch 23/100\n",
      "660/660 [==============================] - 0s 32us/sample - loss: 0.6094 - acc: 0.6515\n",
      "Epoch 24/100\n",
      "660/660 [==============================] - 0s 33us/sample - loss: 0.6071 - acc: 0.6545\n",
      "Epoch 25/100\n",
      "660/660 [==============================] - 0s 32us/sample - loss: 0.6067 - acc: 0.6515\n",
      "Epoch 26/100\n",
      "660/660 [==============================] - 0s 32us/sample - loss: 0.6029 - acc: 0.6576\n",
      "Epoch 27/100\n",
      "660/660 [==============================] - 0s 33us/sample - loss: 0.6014 - acc: 0.6591\n",
      "Epoch 28/100\n",
      "660/660 [==============================] - 0s 33us/sample - loss: 0.5992 - acc: 0.6652\n",
      "Epoch 29/100\n",
      "660/660 [==============================] - 0s 32us/sample - loss: 0.5970 - acc: 0.6636\n",
      "Epoch 30/100\n",
      "660/660 [==============================] - 0s 31us/sample - loss: 0.5954 - acc: 0.6667\n",
      "Epoch 31/100\n",
      "660/660 [==============================] - 0s 32us/sample - loss: 0.5940 - acc: 0.6742\n",
      "Epoch 32/100\n",
      "660/660 [==============================] - 0s 33us/sample - loss: 0.5924 - acc: 0.6803\n",
      "Epoch 33/100\n",
      "660/660 [==============================] - 0s 33us/sample - loss: 0.5899 - acc: 0.6773\n",
      "Epoch 34/100\n",
      "660/660 [==============================] - 0s 31us/sample - loss: 0.5882 - acc: 0.6848\n",
      "Epoch 35/100\n",
      "660/660 [==============================] - 0s 32us/sample - loss: 0.5866 - acc: 0.6818\n",
      "Epoch 36/100\n",
      "660/660 [==============================] - 0s 32us/sample - loss: 0.5849 - acc: 0.6833\n",
      "Epoch 37/100\n",
      "660/660 [==============================] - 0s 33us/sample - loss: 0.5829 - acc: 0.6924\n",
      "Epoch 38/100\n",
      "660/660 [==============================] - 0s 31us/sample - loss: 0.5829 - acc: 0.6833\n",
      "Epoch 39/100\n",
      "660/660 [==============================] - 0s 33us/sample - loss: 0.5828 - acc: 0.6924\n",
      "Epoch 40/100\n",
      "660/660 [==============================] - 0s 33us/sample - loss: 0.5802 - acc: 0.6924\n",
      "Epoch 41/100\n",
      "660/660 [==============================] - 0s 31us/sample - loss: 0.5776 - acc: 0.6924\n",
      "Epoch 42/100\n",
      "660/660 [==============================] - 0s 32us/sample - loss: 0.5773 - acc: 0.7000\n",
      "Epoch 43/100\n",
      "660/660 [==============================] - 0s 32us/sample - loss: 0.5770 - acc: 0.6864\n",
      "Epoch 44/100\n",
      "660/660 [==============================] - 0s 33us/sample - loss: 0.5749 - acc: 0.6924\n",
      "Epoch 45/100\n",
      "660/660 [==============================] - 0s 32us/sample - loss: 0.5749 - acc: 0.6939\n",
      "Epoch 46/100\n",
      "660/660 [==============================] - 0s 33us/sample - loss: 0.5745 - acc: 0.6985\n",
      "Epoch 47/100\n",
      "660/660 [==============================] - 0s 33us/sample - loss: 0.5717 - acc: 0.6970\n",
      "Epoch 48/100\n",
      "660/660 [==============================] - 0s 32us/sample - loss: 0.5712 - acc: 0.6955\n",
      "Epoch 49/100\n",
      "660/660 [==============================] - 0s 32us/sample - loss: 0.5712 - acc: 0.7106\n",
      "Epoch 50/100\n",
      "660/660 [==============================] - 0s 33us/sample - loss: 0.5737 - acc: 0.7091\n",
      "Epoch 51/100\n",
      "660/660 [==============================] - 0s 32us/sample - loss: 0.5694 - acc: 0.6970\n",
      "Epoch 52/100\n",
      "660/660 [==============================] - 0s 33us/sample - loss: 0.5702 - acc: 0.7136\n",
      "Epoch 53/100\n",
      "660/660 [==============================] - 0s 33us/sample - loss: 0.5675 - acc: 0.7030\n",
      "Epoch 54/100\n",
      "660/660 [==============================] - 0s 32us/sample - loss: 0.5685 - acc: 0.7212\n",
      "Epoch 55/100\n",
      "660/660 [==============================] - 0s 31us/sample - loss: 0.5714 - acc: 0.7000\n",
      "Epoch 56/100\n",
      "660/660 [==============================] - 0s 32us/sample - loss: 0.5687 - acc: 0.7061\n",
      "Epoch 57/100\n",
      "660/660 [==============================] - 0s 33us/sample - loss: 0.5659 - acc: 0.7061\n",
      "Epoch 58/100\n",
      "660/660 [==============================] - 0s 32us/sample - loss: 0.5668 - acc: 0.7061\n",
      "Epoch 59/100\n",
      "660/660 [==============================] - 0s 32us/sample - loss: 0.5666 - acc: 0.7167\n",
      "Epoch 60/100\n",
      "660/660 [==============================] - 0s 30us/sample - loss: 0.5630 - acc: 0.7258\n",
      "Epoch 61/100\n",
      "660/660 [==============================] - 0s 31us/sample - loss: 0.5624 - acc: 0.7212\n",
      "Epoch 62/100\n",
      "660/660 [==============================] - 0s 31us/sample - loss: 0.5622 - acc: 0.7197\n",
      "Epoch 63/100\n",
      "660/660 [==============================] - 0s 31us/sample - loss: 0.5611 - acc: 0.7197\n",
      "Epoch 64/100\n",
      "660/660 [==============================] - 0s 33us/sample - loss: 0.5622 - acc: 0.7000\n",
      "Epoch 65/100\n",
      "660/660 [==============================] - 0s 32us/sample - loss: 0.5605 - acc: 0.7227\n",
      "Epoch 66/100\n",
      "660/660 [==============================] - 0s 33us/sample - loss: 0.5645 - acc: 0.7076\n",
      "Epoch 67/100\n",
      "660/660 [==============================] - 0s 31us/sample - loss: 0.5602 - acc: 0.7167\n",
      "Epoch 68/100\n",
      "660/660 [==============================] - 0s 33us/sample - loss: 0.5609 - acc: 0.7197\n",
      "Epoch 69/100\n",
      "660/660 [==============================] - 0s 31us/sample - loss: 0.5595 - acc: 0.7091\n",
      "Epoch 70/100\n",
      "660/660 [==============================] - 0s 32us/sample - loss: 0.5583 - acc: 0.7227\n",
      "Epoch 71/100\n",
      "660/660 [==============================] - 0s 32us/sample - loss: 0.5576 - acc: 0.7167\n",
      "Epoch 72/100\n",
      "660/660 [==============================] - 0s 32us/sample - loss: 0.5573 - acc: 0.7197\n",
      "Epoch 73/100\n",
      "660/660 [==============================] - 0s 31us/sample - loss: 0.5579 - acc: 0.7091\n",
      "Epoch 74/100\n",
      "660/660 [==============================] - 0s 32us/sample - loss: 0.5578 - acc: 0.7106\n",
      "Epoch 75/100\n",
      "660/660 [==============================] - 0s 33us/sample - loss: 0.5561 - acc: 0.7227\n"
     ]
    },
    {
     "name": "stdout",
     "output_type": "stream",
     "text": [
      "Epoch 76/100\n",
      "660/660 [==============================] - 0s 34us/sample - loss: 0.5564 - acc: 0.7212\n",
      "Epoch 77/100\n",
      "660/660 [==============================] - 0s 32us/sample - loss: 0.5563 - acc: 0.7152\n",
      "Epoch 78/100\n",
      "660/660 [==============================] - 0s 32us/sample - loss: 0.5559 - acc: 0.7258\n",
      "Epoch 79/100\n",
      "660/660 [==============================] - 0s 32us/sample - loss: 0.5550 - acc: 0.7212\n",
      "Epoch 80/100\n",
      "660/660 [==============================] - 0s 33us/sample - loss: 0.5560 - acc: 0.7136\n",
      "Epoch 81/100\n",
      "660/660 [==============================] - 0s 31us/sample - loss: 0.5545 - acc: 0.7197\n",
      "Epoch 82/100\n",
      "660/660 [==============================] - 0s 31us/sample - loss: 0.5558 - acc: 0.7197\n",
      "Epoch 83/100\n",
      "660/660 [==============================] - 0s 33us/sample - loss: 0.5549 - acc: 0.7212\n",
      "Epoch 84/100\n",
      "660/660 [==============================] - 0s 32us/sample - loss: 0.5549 - acc: 0.7212\n",
      "Epoch 85/100\n",
      "660/660 [==============================] - 0s 32us/sample - loss: 0.5527 - acc: 0.7258\n",
      "Epoch 86/100\n",
      "660/660 [==============================] - 0s 32us/sample - loss: 0.5527 - acc: 0.7197\n",
      "Epoch 87/100\n",
      "660/660 [==============================] - 0s 34us/sample - loss: 0.5525 - acc: 0.7258\n",
      "Epoch 88/100\n",
      "660/660 [==============================] - 0s 32us/sample - loss: 0.5525 - acc: 0.7136\n",
      "Epoch 89/100\n",
      "660/660 [==============================] - 0s 31us/sample - loss: 0.5542 - acc: 0.7273\n",
      "Epoch 90/100\n",
      "660/660 [==============================] - 0s 32us/sample - loss: 0.5519 - acc: 0.7152\n",
      "Epoch 91/100\n",
      "660/660 [==============================] - 0s 32us/sample - loss: 0.5513 - acc: 0.7242\n",
      "Epoch 92/100\n",
      "660/660 [==============================] - 0s 31us/sample - loss: 0.5525 - acc: 0.7182\n",
      "Epoch 93/100\n",
      "660/660 [==============================] - 0s 31us/sample - loss: 0.5541 - acc: 0.7106\n",
      "Epoch 94/100\n",
      "660/660 [==============================] - 0s 33us/sample - loss: 0.5515 - acc: 0.7227\n",
      "Epoch 95/100\n",
      "660/660 [==============================] - 0s 31us/sample - loss: 0.5503 - acc: 0.7227\n",
      "Epoch 96/100\n",
      "660/660 [==============================] - 0s 32us/sample - loss: 0.5500 - acc: 0.7197\n",
      "Epoch 97/100\n",
      "660/660 [==============================] - 0s 32us/sample - loss: 0.5474 - acc: 0.7303\n",
      "Epoch 98/100\n",
      "660/660 [==============================] - 0s 33us/sample - loss: 0.5488 - acc: 0.7212\n",
      "Epoch 99/100\n",
      "660/660 [==============================] - 0s 32us/sample - loss: 0.5483 - acc: 0.7242\n",
      "Epoch 100/100\n",
      "660/660 [==============================] - 0s 33us/sample - loss: 0.5487 - acc: 0.7182\n"
     ]
    }
   ],
   "source": [
    "# Build the model object\n",
    "model = tf.keras.models.Sequential()\n",
    "# Add the Flatten Layer\n",
    "model.add(tf.keras.layers.Flatten())\n",
    "# Build the input and the hidden layers\n",
    "model.add(tf.keras.layers.Dense(32, activation=tf.nn.relu))\n",
    "model.add(tf.keras.layers.Dense(16, activation=tf.nn.relu))\n",
    "# Build the output layer\n",
    "model.add(tf.keras.layers.Dense(1, activation=tf.nn.sigmoid))\n",
    "\n",
    "# Compile the model\n",
    "model.compile(optimizer=\"adam\", loss=\"binary_crossentropy\", metrics=[\"accuracy\"])\n",
    "\n",
    "history = model.fit(x=X_train, y=Y_train, verbose=1, epochs=100) # Start training process"
   ]
  },
  {
   "cell_type": "code",
   "execution_count": 17,
   "metadata": {},
   "outputs": [
    {
     "name": "stdout",
     "output_type": "stream",
     "text": [
      "108/108 [==============================] - 0s 265us/sample - loss: 0.5699 - acc: 0.7130\n",
      "Accuracy: 71.30\n"
     ]
    }
   ],
   "source": [
    "# Evaluate the keras model\n",
    "_, accuracy = model.evaluate(X_test, Y_test)\n",
    "print('Accuracy: %.2f' % (accuracy*100))"
   ]
  },
  {
   "cell_type": "markdown",
   "metadata": {},
   "source": [
    "The training accuracy is 71.25% and the testing accuracy is 71.76% which are lower than the Logistic Regression classifier. Let's try to tune the hyperparameter, and see if the results for DNN will be better."
   ]
  },
  {
   "cell_type": "code",
   "execution_count": 18,
   "metadata": {},
   "outputs": [
    {
     "name": "stdout",
     "output_type": "stream",
     "text": [
      "Epoch 1/100\n",
      "660/660 [==============================] - 0s 134us/sample - loss: 0.6651 - acc: 0.6364\n",
      "Epoch 2/100\n",
      "660/660 [==============================] - 0s 35us/sample - loss: 0.6407 - acc: 0.6515\n",
      "Epoch 3/100\n",
      "660/660 [==============================] - 0s 36us/sample - loss: 0.6383 - acc: 0.6515\n",
      "Epoch 4/100\n",
      "660/660 [==============================] - 0s 36us/sample - loss: 0.6340 - acc: 0.6515\n",
      "Epoch 5/100\n",
      "660/660 [==============================] - 0s 36us/sample - loss: 0.6323 - acc: 0.6515\n",
      "Epoch 6/100\n",
      "660/660 [==============================] - 0s 33us/sample - loss: 0.6291 - acc: 0.6515\n",
      "Epoch 7/100\n",
      "660/660 [==============================] - 0s 33us/sample - loss: 0.6254 - acc: 0.6515\n",
      "Epoch 8/100\n",
      "660/660 [==============================] - 0s 33us/sample - loss: 0.6221 - acc: 0.6515\n",
      "Epoch 9/100\n",
      "660/660 [==============================] - 0s 35us/sample - loss: 0.6217 - acc: 0.6515\n",
      "Epoch 10/100\n",
      "660/660 [==============================] - 0s 34us/sample - loss: 0.6163 - acc: 0.6515\n",
      "Epoch 11/100\n",
      "660/660 [==============================] - 0s 34us/sample - loss: 0.6143 - acc: 0.6515\n",
      "Epoch 12/100\n",
      "660/660 [==============================] - 0s 35us/sample - loss: 0.6144 - acc: 0.6515\n",
      "Epoch 13/100\n",
      "660/660 [==============================] - 0s 34us/sample - loss: 0.6097 - acc: 0.6515\n",
      "Epoch 14/100\n",
      "660/660 [==============================] - 0s 33us/sample - loss: 0.6050 - acc: 0.6530\n",
      "Epoch 15/100\n",
      "660/660 [==============================] - 0s 34us/sample - loss: 0.6029 - acc: 0.6652\n",
      "Epoch 16/100\n",
      "660/660 [==============================] - 0s 36us/sample - loss: 0.6029 - acc: 0.6682\n",
      "Epoch 17/100\n",
      "660/660 [==============================] - 0s 35us/sample - loss: 0.6013 - acc: 0.6606\n",
      "Epoch 18/100\n",
      "660/660 [==============================] - 0s 35us/sample - loss: 0.5950 - acc: 0.6742\n",
      "Epoch 19/100\n",
      "660/660 [==============================] - 0s 33us/sample - loss: 0.5971 - acc: 0.6636\n",
      "Epoch 20/100\n",
      "660/660 [==============================] - 0s 34us/sample - loss: 0.5938 - acc: 0.6758\n",
      "Epoch 21/100\n",
      "660/660 [==============================] - 0s 33us/sample - loss: 0.5883 - acc: 0.6803\n",
      "Epoch 22/100\n",
      "660/660 [==============================] - 0s 34us/sample - loss: 0.5884 - acc: 0.6773\n",
      "Epoch 23/100\n",
      "660/660 [==============================] - 0s 34us/sample - loss: 0.5860 - acc: 0.6697\n",
      "Epoch 24/100\n",
      "660/660 [==============================] - 0s 35us/sample - loss: 0.5843 - acc: 0.6864\n",
      "Epoch 25/100\n",
      "660/660 [==============================] - 0s 34us/sample - loss: 0.5815 - acc: 0.6879\n",
      "Epoch 26/100\n",
      "660/660 [==============================] - 0s 34us/sample - loss: 0.5824 - acc: 0.6879\n",
      "Epoch 27/100\n",
      "660/660 [==============================] - 0s 34us/sample - loss: 0.5791 - acc: 0.6924\n",
      "Epoch 28/100\n",
      "660/660 [==============================] - 0s 35us/sample - loss: 0.5798 - acc: 0.6985\n",
      "Epoch 29/100\n",
      "660/660 [==============================] - 0s 35us/sample - loss: 0.5753 - acc: 0.6924\n",
      "Epoch 30/100\n",
      "660/660 [==============================] - 0s 35us/sample - loss: 0.5755 - acc: 0.6909\n",
      "Epoch 31/100\n",
      "660/660 [==============================] - 0s 35us/sample - loss: 0.5736 - acc: 0.6924\n",
      "Epoch 32/100\n",
      "660/660 [==============================] - 0s 35us/sample - loss: 0.5712 - acc: 0.6970\n",
      "Epoch 33/100\n",
      "660/660 [==============================] - 0s 34us/sample - loss: 0.5717 - acc: 0.7152\n",
      "Epoch 34/100\n",
      "660/660 [==============================] - 0s 35us/sample - loss: 0.5706 - acc: 0.6924\n",
      "Epoch 35/100\n",
      "660/660 [==============================] - 0s 34us/sample - loss: 0.5672 - acc: 0.7045\n",
      "Epoch 36/100\n",
      "660/660 [==============================] - 0s 35us/sample - loss: 0.5725 - acc: 0.7030\n",
      "Epoch 37/100\n",
      "660/660 [==============================] - 0s 34us/sample - loss: 0.5663 - acc: 0.7136\n",
      "Epoch 38/100\n",
      "660/660 [==============================] - 0s 34us/sample - loss: 0.5659 - acc: 0.7015\n",
      "Epoch 39/100\n",
      "660/660 [==============================] - 0s 35us/sample - loss: 0.5670 - acc: 0.7167\n",
      "Epoch 40/100\n",
      "660/660 [==============================] - 0s 34us/sample - loss: 0.5688 - acc: 0.6939\n",
      "Epoch 41/100\n",
      "660/660 [==============================] - 0s 35us/sample - loss: 0.5638 - acc: 0.7091\n",
      "Epoch 42/100\n",
      "660/660 [==============================] - 0s 34us/sample - loss: 0.5633 - acc: 0.7121\n",
      "Epoch 43/100\n",
      "660/660 [==============================] - 0s 34us/sample - loss: 0.5637 - acc: 0.7136\n",
      "Epoch 44/100\n",
      "660/660 [==============================] - 0s 35us/sample - loss: 0.5603 - acc: 0.7152\n",
      "Epoch 45/100\n",
      "660/660 [==============================] - 0s 34us/sample - loss: 0.5654 - acc: 0.7030\n",
      "Epoch 46/100\n",
      "660/660 [==============================] - 0s 34us/sample - loss: 0.5748 - acc: 0.6909\n",
      "Epoch 47/100\n",
      "660/660 [==============================] - 0s 34us/sample - loss: 0.5605 - acc: 0.7106\n",
      "Epoch 48/100\n",
      "660/660 [==============================] - 0s 35us/sample - loss: 0.5645 - acc: 0.7106\n",
      "Epoch 49/100\n",
      "660/660 [==============================] - 0s 34us/sample - loss: 0.5609 - acc: 0.7212\n",
      "Epoch 50/100\n",
      "660/660 [==============================] - 0s 33us/sample - loss: 0.5591 - acc: 0.7136\n",
      "Epoch 51/100\n",
      "660/660 [==============================] - 0s 33us/sample - loss: 0.5587 - acc: 0.7182\n",
      "Epoch 52/100\n",
      "660/660 [==============================] - 0s 34us/sample - loss: 0.5590 - acc: 0.7212\n",
      "Epoch 53/100\n",
      "660/660 [==============================] - 0s 34us/sample - loss: 0.5579 - acc: 0.7167\n",
      "Epoch 54/100\n",
      "660/660 [==============================] - 0s 33us/sample - loss: 0.5574 - acc: 0.7182\n",
      "Epoch 55/100\n",
      "660/660 [==============================] - 0s 34us/sample - loss: 0.5623 - acc: 0.7121\n",
      "Epoch 56/100\n",
      "660/660 [==============================] - 0s 35us/sample - loss: 0.5552 - acc: 0.7167\n",
      "Epoch 57/100\n",
      "660/660 [==============================] - 0s 35us/sample - loss: 0.5570 - acc: 0.7167\n",
      "Epoch 58/100\n",
      "660/660 [==============================] - 0s 36us/sample - loss: 0.5567 - acc: 0.7121\n",
      "Epoch 59/100\n",
      "660/660 [==============================] - 0s 33us/sample - loss: 0.5539 - acc: 0.7227\n",
      "Epoch 60/100\n",
      "660/660 [==============================] - 0s 35us/sample - loss: 0.5578 - acc: 0.7106\n",
      "Epoch 61/100\n",
      "660/660 [==============================] - 0s 34us/sample - loss: 0.5543 - acc: 0.7136\n",
      "Epoch 62/100\n",
      "660/660 [==============================] - 0s 34us/sample - loss: 0.5544 - acc: 0.7182\n",
      "Epoch 63/100\n",
      "660/660 [==============================] - 0s 34us/sample - loss: 0.5529 - acc: 0.7136\n",
      "Epoch 64/100\n",
      "660/660 [==============================] - 0s 34us/sample - loss: 0.5544 - acc: 0.7152\n",
      "Epoch 65/100\n",
      "660/660 [==============================] - 0s 33us/sample - loss: 0.5521 - acc: 0.7227\n",
      "Epoch 66/100\n",
      "660/660 [==============================] - 0s 34us/sample - loss: 0.5509 - acc: 0.7121\n",
      "Epoch 67/100\n",
      "660/660 [==============================] - 0s 35us/sample - loss: 0.5532 - acc: 0.7182\n",
      "Epoch 68/100\n",
      "660/660 [==============================] - 0s 34us/sample - loss: 0.5546 - acc: 0.7030\n",
      "Epoch 69/100\n",
      "660/660 [==============================] - 0s 35us/sample - loss: 0.5534 - acc: 0.7182\n",
      "Epoch 70/100\n",
      "660/660 [==============================] - 0s 34us/sample - loss: 0.5510 - acc: 0.7182\n",
      "Epoch 71/100\n",
      "660/660 [==============================] - 0s 35us/sample - loss: 0.5534 - acc: 0.7136\n",
      "Epoch 72/100\n",
      "660/660 [==============================] - 0s 34us/sample - loss: 0.5487 - acc: 0.7182\n",
      "Epoch 73/100\n",
      "660/660 [==============================] - 0s 35us/sample - loss: 0.5479 - acc: 0.7197\n",
      "Epoch 74/100\n",
      "660/660 [==============================] - 0s 34us/sample - loss: 0.5480 - acc: 0.7227\n",
      "Epoch 75/100\n",
      "660/660 [==============================] - 0s 35us/sample - loss: 0.5516 - acc: 0.7121\n",
      "Epoch 76/100\n",
      "660/660 [==============================] - 0s 34us/sample - loss: 0.5519 - acc: 0.7182\n",
      "Epoch 77/100\n",
      "660/660 [==============================] - 0s 33us/sample - loss: 0.5487 - acc: 0.7182\n",
      "Epoch 78/100\n",
      "660/660 [==============================] - 0s 34us/sample - loss: 0.5518 - acc: 0.7258\n",
      "Epoch 79/100\n",
      "660/660 [==============================] - 0s 34us/sample - loss: 0.5543 - acc: 0.7045\n",
      "Epoch 80/100\n",
      "660/660 [==============================] - 0s 35us/sample - loss: 0.5449 - acc: 0.7167\n",
      "Epoch 81/100\n",
      "660/660 [==============================] - 0s 34us/sample - loss: 0.5487 - acc: 0.7121\n",
      "Epoch 82/100\n",
      "660/660 [==============================] - 0s 35us/sample - loss: 0.5475 - acc: 0.7212\n",
      "Epoch 83/100\n"
     ]
    },
    {
     "name": "stdout",
     "output_type": "stream",
     "text": [
      "660/660 [==============================] - 0s 34us/sample - loss: 0.5468 - acc: 0.7258\n",
      "Epoch 84/100\n",
      "660/660 [==============================] - 0s 34us/sample - loss: 0.5452 - acc: 0.7197\n",
      "Epoch 85/100\n",
      "660/660 [==============================] - 0s 34us/sample - loss: 0.5441 - acc: 0.7227\n",
      "Epoch 86/100\n",
      "660/660 [==============================] - 0s 34us/sample - loss: 0.5491 - acc: 0.7318\n",
      "Epoch 87/100\n",
      "660/660 [==============================] - 0s 34us/sample - loss: 0.5467 - acc: 0.7273\n",
      "Epoch 88/100\n",
      "660/660 [==============================] - 0s 33us/sample - loss: 0.5480 - acc: 0.7152\n",
      "Epoch 89/100\n",
      "660/660 [==============================] - 0s 35us/sample - loss: 0.5466 - acc: 0.7318\n",
      "Epoch 90/100\n",
      "660/660 [==============================] - 0s 33us/sample - loss: 0.5457 - acc: 0.7348\n",
      "Epoch 91/100\n",
      "660/660 [==============================] - 0s 34us/sample - loss: 0.5456 - acc: 0.7136\n",
      "Epoch 92/100\n",
      "660/660 [==============================] - 0s 33us/sample - loss: 0.5422 - acc: 0.7121\n",
      "Epoch 93/100\n",
      "660/660 [==============================] - 0s 34us/sample - loss: 0.5414 - acc: 0.7273\n",
      "Epoch 94/100\n",
      "660/660 [==============================] - 0s 34us/sample - loss: 0.5414 - acc: 0.7303\n",
      "Epoch 95/100\n",
      "660/660 [==============================] - 0s 35us/sample - loss: 0.5427 - acc: 0.7227\n",
      "Epoch 96/100\n",
      "660/660 [==============================] - 0s 35us/sample - loss: 0.5465 - acc: 0.7167\n",
      "Epoch 97/100\n",
      "660/660 [==============================] - 0s 33us/sample - loss: 0.5455 - acc: 0.7197\n",
      "Epoch 98/100\n",
      "660/660 [==============================] - 0s 35us/sample - loss: 0.5448 - acc: 0.7182\n",
      "Epoch 99/100\n",
      "660/660 [==============================] - 0s 33us/sample - loss: 0.5414 - acc: 0.7212\n",
      "Epoch 100/100\n",
      "660/660 [==============================] - 0s 34us/sample - loss: 0.5406 - acc: 0.7167\n",
      "108/108 [==============================] - 0s 243us/sample - loss: 0.5718 - acc: 0.7222\n",
      "Accuracy: 72.22\n"
     ]
    }
   ],
   "source": [
    "# Build the model object\n",
    "model_tmp = tf.keras.models.Sequential()\n",
    "# Add the Flatten Layer\n",
    "model_tmp.add(tf.keras.layers.Flatten())\n",
    "# Build the input and the hidden layers\n",
    "model_tmp.add(tf.keras.layers.Dense(512, activation=tf.nn.relu))\n",
    "# Build the output layer\n",
    "model_tmp.add(tf.keras.layers.Dense(1, activation=tf.nn.sigmoid))\n",
    "\n",
    "# Compile the model\n",
    "model_tmp.compile(optimizer=\"adam\", loss=\"binary_crossentropy\", metrics=[\"accuracy\"])\n",
    "\n",
    "history = model_tmp.fit(x=X_train, y=Y_train, verbose=1, epochs=100) # Start training process\n",
    "\n",
    "# Evaluate the keras model\n",
    "_, accuracy = model_tmp.evaluate(X_test, Y_test)\n",
    "print('Accuracy: %.2f' % (accuracy*100))"
   ]
  },
  {
   "cell_type": "markdown",
   "metadata": {},
   "source": [
    "I have tried several hyperparameters on the DNN, but the highest accuracy I got was around 74% which was is lower than the non-DNN algorithm. I guess maybe there are too few data for the DNN."
   ]
  },
  {
   "cell_type": "markdown",
   "metadata": {},
   "source": [
    "## Confusion Matrix for Both Methods"
   ]
  },
  {
   "cell_type": "code",
   "execution_count": 19,
   "metadata": {},
   "outputs": [],
   "source": [
    "import seaborn as sns\n",
    "from sklearn import metrics"
   ]
  },
  {
   "cell_type": "markdown",
   "metadata": {},
   "source": [
    "### Logistic Regression Classifier"
   ]
  },
  {
   "cell_type": "code",
   "execution_count": 20,
   "metadata": {},
   "outputs": [],
   "source": [
    "clf_final = LogisticRegression(max_iter=500)\n",
    "\n",
    "# We split the data into training and test set\n",
    "test_size = 0.14\n",
    "X_train, X_test, Y_train, Y_test = model_selection.train_test_split(X,Y,test_size=test_size, random_state=1)\n",
    "clf_final.fit(X_train, Y_train)\n",
    "\n",
    "predictions_non_DNN = clf_final.predict(X_test)\n",
    "score_non_DNN = clf_final.score(X_test, Y_test)"
   ]
  },
  {
   "cell_type": "code",
   "execution_count": 21,
   "metadata": {},
   "outputs": [
    {
     "data": {
      "image/png": "[encoded data removed]",
      "text/plain": [
       "<Figure size 504x504 with 2 Axes>"
      ]
     },
     "metadata": {
      "needs_background": "light"
     },
     "output_type": "display_data"
    }
   ],
   "source": [
    "cm_non_DNN = metrics.confusion_matrix(Y_test, predictions_non_DNN)\n",
    "plt.figure(figsize=(7,7))\n",
    "sns.heatmap(cm_non_DNN, annot=True, fmt=\".3f\", linewidths=.5, square = True, cmap = 'Blues_r');\n",
    "plt.ylabel('Actual label');\n",
    "plt.xlabel('Predicted label');\n",
    "all_sample_title = 'Accuracy Score: {0}'.format(score_non_DNN)\n",
    "plt.title(all_sample_title, size = 12);"
   ]
  },
  {
   "cell_type": "markdown",
   "metadata": {},
   "source": [
    "### DNN"
   ]
  },
  {
   "cell_type": "code",
   "execution_count": 22,
   "metadata": {},
   "outputs": [],
   "source": [
    "prediction_DNN = model.predict_classes(X_test)\n",
    "cm_DNN = metrics.confusion_matrix(Y_test, prediction_DNN)"
   ]
  },
  {
   "cell_type": "code",
   "execution_count": 23,
   "metadata": {},
   "outputs": [
    {
     "name": "stdout",
     "output_type": "stream",
     "text": [
      "108/108 [==============================] - 0s 41us/sample - loss: 33.3431 - acc: 0.6667\n"
     ]
    },
    {
     "data": {
      "image/png": "[encoded data removed]",
      "text/plain": [
       "<Figure size 504x504 with 2 Axes>"
      ]
     },
     "metadata": {
      "needs_background": "light"
     },
     "output_type": "display_data"
    }
   ],
   "source": [
    "cm_DNN = metrics.confusion_matrix(Y_test, prediction_DNN)\n",
    "plt.figure(figsize=(7,7))\n",
    "sns.heatmap(cm_DNN, annot=True, fmt=\".3f\", linewidths=.5, square = True, cmap = 'Blues_r');\n",
    "plt.ylabel('Actual label');\n",
    "plt.xlabel('Predicted label');\n",
    "_, accuracy = model.evaluate(X_test, Y_test)\n",
    "all_sample_title = 'Accuracy Score: {0}'.format(accuracy)\n",
    "plt.title(all_sample_title, size = 12);"
   ]
  },
  {
   "cell_type": "code",
   "execution_count": null,
   "metadata": {},
   "outputs": [],
   "source": []
  }
 ],
 "metadata": {
  "kernelspec": {
   "display_name": "Python 3",
   "language": "python",
   "name": "python3"
  },
  "language_info": {
   "codemirror_mode": {
    "name": "ipython",
    "version": 3
   },
   "file_extension": ".py",
   "mimetype": "text/x-python",
   "name": "python",
   "nbconvert_exporter": "python",
   "pygments_lexer": "ipython3",
   "version": "3.6.9"
  }
 },
 "nbformat": 4,
 "nbformat_minor": 4
}
